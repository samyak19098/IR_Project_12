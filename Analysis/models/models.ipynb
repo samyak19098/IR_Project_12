{
 "cells": [
  {
   "cell_type": "code",
   "execution_count": 769,
   "metadata": {},
   "outputs": [],
   "source": [
    "import sklearn\n",
    "import pandas as pd\n",
    "import numpy as np\n",
    "from sklearn.model_selection import train_test_split\n",
    "from sklearn.linear_model import LinearRegression, SGDRegressor\n",
    "import matplotlib.pyplot as plt\n",
    "import sklearn.metrics as metrics\n",
    "from sklearn.preprocessing import OneHotEncoder\n",
    "from sklearn.preprocessing import StandardScaler, MinMaxScaler\n",
    "from sklearn.neural_network import MLPRegressor\n",
    "from sklearn.ensemble import RandomForestRegressor\n",
    "import pickle\n",
    "# sklearn.linear_model.SGDRegressor"
   ]
  },
  {
   "cell_type": "code",
   "execution_count": 770,
   "metadata": {},
   "outputs": [],
   "source": [
    "crypto_to_symbol = {'doge': 'DOGE', 'avax': 'AVAX', 'matic' : 'MATIC', 'ripple': 'XRP', 'shiba' : 'SHIB', 'solana' : 'SOL'}"
   ]
  },
  {
   "cell_type": "code",
   "execution_count": 771,
   "metadata": {},
   "outputs": [],
   "source": [
    "crypto = \"solana\""
   ]
  },
  {
   "cell_type": "code",
   "execution_count": 772,
   "metadata": {},
   "outputs": [],
   "source": [
    "sentiment_df = pd.read_csv(f\"./sentiments/{crypto}_sentiment.csv\")"
   ]
  },
  {
   "cell_type": "code",
   "execution_count": 773,
   "metadata": {},
   "outputs": [
    {
     "data": {
      "text/plain": [
       "(182637, 23)"
      ]
     },
     "execution_count": 773,
     "metadata": {},
     "output_type": "execute_result"
    }
   ],
   "source": [
    "sentiment_df.shape"
   ]
  },
  {
   "cell_type": "code",
   "execution_count": 774,
   "metadata": {},
   "outputs": [
    {
     "data": {
      "text/plain": [
       "Index(['Unnamed: 0.1', 'Unnamed: 0', 'index', 'id', 'text', 'favourite_count',\n",
       "       'retweet_count', 'created_at', 'user_id_str', 'user_name',\n",
       "       'user_followers_count', 'user_verified', 'hashtags', 'mentioned',\n",
       "       'high', 'low', 'open', 'volume_to', 'volume_from', 'close',\n",
       "       'clean_text', 'sentiment_label', 'sentiment_score'],\n",
       "      dtype='object')"
      ]
     },
     "execution_count": 774,
     "metadata": {},
     "output_type": "execute_result"
    }
   ],
   "source": [
    "sentiment_df.columns"
   ]
  },
  {
   "cell_type": "code",
   "execution_count": 775,
   "metadata": {},
   "outputs": [
    {
     "data": {
      "text/html": [
       "<div>\n",
       "<style scoped>\n",
       "    .dataframe tbody tr th:only-of-type {\n",
       "        vertical-align: middle;\n",
       "    }\n",
       "\n",
       "    .dataframe tbody tr th {\n",
       "        vertical-align: top;\n",
       "    }\n",
       "\n",
       "    .dataframe thead th {\n",
       "        text-align: right;\n",
       "    }\n",
       "</style>\n",
       "<table border=\"1\" class=\"dataframe\">\n",
       "  <thead>\n",
       "    <tr style=\"text-align: right;\">\n",
       "      <th></th>\n",
       "      <th>Unnamed: 0.1</th>\n",
       "      <th>Unnamed: 0</th>\n",
       "      <th>index</th>\n",
       "      <th>id</th>\n",
       "      <th>text</th>\n",
       "      <th>favourite_count</th>\n",
       "      <th>retweet_count</th>\n",
       "      <th>created_at</th>\n",
       "      <th>user_id_str</th>\n",
       "      <th>user_name</th>\n",
       "      <th>...</th>\n",
       "      <th>mentioned</th>\n",
       "      <th>high</th>\n",
       "      <th>low</th>\n",
       "      <th>open</th>\n",
       "      <th>volume_to</th>\n",
       "      <th>volume_from</th>\n",
       "      <th>close</th>\n",
       "      <th>clean_text</th>\n",
       "      <th>sentiment_label</th>\n",
       "      <th>sentiment_score</th>\n",
       "    </tr>\n",
       "  </thead>\n",
       "  <tbody>\n",
       "    <tr>\n",
       "      <th>0</th>\n",
       "      <td>0</td>\n",
       "      <td>0</td>\n",
       "      <td>0</td>\n",
       "      <td>1509680000000000000.0</td>\n",
       "      <td>Hey fam!, staking is on the way, and now it's ...</td>\n",
       "      <td>7</td>\n",
       "      <td>1</td>\n",
       "      <td>2022-04-01 00:00:00</td>\n",
       "      <td>1492964491574845442</td>\n",
       "      <td>Solana Faction Cards</td>\n",
       "      <td>...</td>\n",
       "      <td>[]</td>\n",
       "      <td>122.76999999999999602096</td>\n",
       "      <td>122.32999999999999829470</td>\n",
       "      <td>122.73999999999999488409</td>\n",
       "      <td>460390.54999999998835846782</td>\n",
       "      <td>3757.19000000000005456968</td>\n",
       "      <td>122.3299999999999982947</td>\n",
       "      <td>hey fam staking is on the way and now its time...</td>\n",
       "      <td>neutral</td>\n",
       "      <td>0.86607140302658081055</td>\n",
       "    </tr>\n",
       "    <tr>\n",
       "      <th>1</th>\n",
       "      <td>1</td>\n",
       "      <td>1</td>\n",
       "      <td>1</td>\n",
       "      <td>1509680000000000000.0</td>\n",
       "      <td>Follow us to receive Premium Signals from Top ...</td>\n",
       "      <td>0</td>\n",
       "      <td>0</td>\n",
       "      <td>2022-04-01 00:00:02</td>\n",
       "      <td>575197117</td>\n",
       "      <td>Crypto Signal Mall</td>\n",
       "      <td>...</td>\n",
       "      <td>[]</td>\n",
       "      <td>122.76999999999999602096</td>\n",
       "      <td>122.32999999999999829470</td>\n",
       "      <td>122.73999999999999488409</td>\n",
       "      <td>460390.54999999998835846782</td>\n",
       "      <td>3757.19000000000005456968</td>\n",
       "      <td>122.3299999999999982947</td>\n",
       "      <td>follow us to receive premium signals from top ...</td>\n",
       "      <td>neutral</td>\n",
       "      <td>0.75937086343765258789</td>\n",
       "    </tr>\n",
       "    <tr>\n",
       "      <th>2</th>\n",
       "      <td>2</td>\n",
       "      <td>2</td>\n",
       "      <td>2</td>\n",
       "      <td>1509680000000000000.0</td>\n",
       "      <td>If you want to spend 0.04 $MATIC , You can min...</td>\n",
       "      <td>1</td>\n",
       "      <td>0</td>\n",
       "      <td>2022-04-01 00:00:02</td>\n",
       "      <td>1325342495316738049</td>\n",
       "      <td>Amouba NFT</td>\n",
       "      <td>...</td>\n",
       "      <td>[]</td>\n",
       "      <td>122.76999999999999602096</td>\n",
       "      <td>122.32999999999999829470</td>\n",
       "      <td>122.73999999999999488409</td>\n",
       "      <td>460390.54999999998835846782</td>\n",
       "      <td>3757.19000000000005456968</td>\n",
       "      <td>122.3299999999999982947</td>\n",
       "      <td>if you want to spend 004 $matic you can mint a...</td>\n",
       "      <td>neutral</td>\n",
       "      <td>0.89317560195922851562</td>\n",
       "    </tr>\n",
       "    <tr>\n",
       "      <th>3</th>\n",
       "      <td>3</td>\n",
       "      <td>3</td>\n",
       "      <td>3</td>\n",
       "      <td>1509680000000000000.0</td>\n",
       "      <td>Minting is live! 25% of minting proceeds will ...</td>\n",
       "      <td>3</td>\n",
       "      <td>2</td>\n",
       "      <td>2022-04-01 00:00:03</td>\n",
       "      <td>1463314448446332930</td>\n",
       "      <td>Chuck's Canucks</td>\n",
       "      <td>...</td>\n",
       "      <td>['@CWF_FCF']</td>\n",
       "      <td>122.76999999999999602096</td>\n",
       "      <td>122.32999999999999829470</td>\n",
       "      <td>122.73999999999999488409</td>\n",
       "      <td>460390.54999999998835846782</td>\n",
       "      <td>3757.19000000000005456968</td>\n",
       "      <td>122.3299999999999982947</td>\n",
       "      <td>minting is live 25 of minting proceeds will be...</td>\n",
       "      <td>neutral</td>\n",
       "      <td>0.50828081369400024414</td>\n",
       "    </tr>\n",
       "    <tr>\n",
       "      <th>4</th>\n",
       "      <td>4</td>\n",
       "      <td>4</td>\n",
       "      <td>4</td>\n",
       "      <td>1509680000000000000.0</td>\n",
       "      <td>Current royalties 💰:\\n36.75 SOL ≈ 4513.42 $\\n\\...</td>\n",
       "      <td>0</td>\n",
       "      <td>0</td>\n",
       "      <td>2022-04-01 00:00:03</td>\n",
       "      <td>1259533091842011141</td>\n",
       "      <td>MMCC REWARD STATUS</td>\n",
       "      <td>...</td>\n",
       "      <td>[]</td>\n",
       "      <td>122.76999999999999602096</td>\n",
       "      <td>122.32999999999999829470</td>\n",
       "      <td>122.73999999999999488409</td>\n",
       "      <td>460390.54999999998835846782</td>\n",
       "      <td>3757.19000000000005456968</td>\n",
       "      <td>122.3299999999999982947</td>\n",
       "      <td>current royalties 3675 sol 451342 $meerkatmond...</td>\n",
       "      <td>neutral</td>\n",
       "      <td>0.89019638299942016602</td>\n",
       "    </tr>\n",
       "    <tr>\n",
       "      <th>...</th>\n",
       "      <td>...</td>\n",
       "      <td>...</td>\n",
       "      <td>...</td>\n",
       "      <td>...</td>\n",
       "      <td>...</td>\n",
       "      <td>...</td>\n",
       "      <td>...</td>\n",
       "      <td>...</td>\n",
       "      <td>...</td>\n",
       "      <td>...</td>\n",
       "      <td>...</td>\n",
       "      <td>...</td>\n",
       "      <td>...</td>\n",
       "      <td>...</td>\n",
       "      <td>...</td>\n",
       "      <td>...</td>\n",
       "      <td>...</td>\n",
       "      <td>...</td>\n",
       "      <td>...</td>\n",
       "      <td>...</td>\n",
       "      <td>...</td>\n",
       "    </tr>\n",
       "    <tr>\n",
       "      <th>182632</th>\n",
       "      <td>182632</td>\n",
       "      <td>182632</td>\n",
       "      <td>182634</td>\n",
       "      <td>1512943257793318912.0</td>\n",
       "      <td>GIVEAWAY ALERT 🚨\\n@MidiModoNFT giving away 1 $...</td>\n",
       "      <td>6</td>\n",
       "      <td>0</td>\n",
       "      <td>2022-04-09 23:59:16</td>\n",
       "      <td>2148325614</td>\n",
       "      <td>nandobeatz</td>\n",
       "      <td>...</td>\n",
       "      <td>['@MidiModoNFT']</td>\n",
       "      <td>113.17000000000000170530</td>\n",
       "      <td>112.95999999999999374722</td>\n",
       "      <td>112.95999999999999374722</td>\n",
       "      <td>145632.54000000000814907253</td>\n",
       "      <td>1288.01999999999998181011</td>\n",
       "      <td>113.0799999999999982947</td>\n",
       "      <td>giveaway alert giving away 1 $sol to a random ...</td>\n",
       "      <td>positive</td>\n",
       "      <td>0.80570709705352783203</td>\n",
       "    </tr>\n",
       "    <tr>\n",
       "      <th>182633</th>\n",
       "      <td>182633</td>\n",
       "      <td>182633</td>\n",
       "      <td>182635</td>\n",
       "      <td>1512943296976457984.0</td>\n",
       "      <td>@encrypt_solana One of the best projects you c...</td>\n",
       "      <td>5</td>\n",
       "      <td>0</td>\n",
       "      <td>2022-04-09 23:59:25</td>\n",
       "      <td>1438520566785314816</td>\n",
       "      <td>Antistatic</td>\n",
       "      <td>...</td>\n",
       "      <td>['@encrypt_solana']</td>\n",
       "      <td>113.17000000000000170530</td>\n",
       "      <td>112.95999999999999374722</td>\n",
       "      <td>112.95999999999999374722</td>\n",
       "      <td>145632.54000000000814907253</td>\n",
       "      <td>1288.01999999999998181011</td>\n",
       "      <td>113.0799999999999982947</td>\n",
       "      <td>one of the best projects you could be in and t...</td>\n",
       "      <td>positive</td>\n",
       "      <td>0.98644465208053599969</td>\n",
       "    </tr>\n",
       "    <tr>\n",
       "      <th>182634</th>\n",
       "      <td>182634</td>\n",
       "      <td>182634</td>\n",
       "      <td>182636</td>\n",
       "      <td>1512943323409169920.0</td>\n",
       "      <td>@BaconStevensol #STEPN I want to experience it...</td>\n",
       "      <td>1</td>\n",
       "      <td>0</td>\n",
       "      <td>2022-04-09 23:59:32</td>\n",
       "      <td>1455562402427138051</td>\n",
       "      <td>Minadori</td>\n",
       "      <td>...</td>\n",
       "      <td>['@BaconStevensol', '@vanity1919', '@gorio_mus...</td>\n",
       "      <td>113.17000000000000170530</td>\n",
       "      <td>112.95999999999999374722</td>\n",
       "      <td>112.95999999999999374722</td>\n",
       "      <td>145632.54000000000814907253</td>\n",
       "      <td>1288.01999999999998181011</td>\n",
       "      <td>113.0799999999999982947</td>\n",
       "      <td>stepn i want to experience it and i want sol i...</td>\n",
       "      <td>neutral</td>\n",
       "      <td>0.61593395471572875977</td>\n",
       "    </tr>\n",
       "    <tr>\n",
       "      <th>182635</th>\n",
       "      <td>182635</td>\n",
       "      <td>182635</td>\n",
       "      <td>182637</td>\n",
       "      <td>1512943336998546944.0</td>\n",
       "      <td>@SolGiftNFT @TheGoomies SOLANA perfectly 🌠💯 Fr...</td>\n",
       "      <td>0</td>\n",
       "      <td>0</td>\n",
       "      <td>2022-04-09 23:59:35</td>\n",
       "      <td>1382351978798346240</td>\n",
       "      <td>B</td>\n",
       "      <td>...</td>\n",
       "      <td>['@SolGiftNFT', '@TheGoomies', '@SolanaEvent']</td>\n",
       "      <td>113.17000000000000170530</td>\n",
       "      <td>112.95999999999999374722</td>\n",
       "      <td>112.95999999999999374722</td>\n",
       "      <td>145632.54000000000814907253</td>\n",
       "      <td>1288.01999999999998181011</td>\n",
       "      <td>113.0799999999999982947</td>\n",
       "      <td>solana perfectly free airdrop sol</td>\n",
       "      <td>neutral</td>\n",
       "      <td>0.63022845983505249023</td>\n",
       "    </tr>\n",
       "    <tr>\n",
       "      <th>182636</th>\n",
       "      <td>182636</td>\n",
       "      <td>182636</td>\n",
       "      <td>182638</td>\n",
       "      <td>1512943399116148992.0</td>\n",
       "      <td>@hackerhouses Solana shutting down in real lif...</td>\n",
       "      <td>2</td>\n",
       "      <td>0</td>\n",
       "      <td>2022-04-09 23:59:50</td>\n",
       "      <td>1443325159310602240</td>\n",
       "      <td>BlueDude.eth</td>\n",
       "      <td>...</td>\n",
       "      <td>['@hackerhouses']</td>\n",
       "      <td>113.17000000000000170530</td>\n",
       "      <td>112.95999999999999374722</td>\n",
       "      <td>112.95999999999999374722</td>\n",
       "      <td>145632.54000000000814907253</td>\n",
       "      <td>1288.01999999999998181011</td>\n",
       "      <td>113.0799999999999982947</td>\n",
       "      <td>solana shutting down in real life and on chain</td>\n",
       "      <td>neutral</td>\n",
       "      <td>0.74059796333312988281</td>\n",
       "    </tr>\n",
       "  </tbody>\n",
       "</table>\n",
       "<p>182637 rows × 23 columns</p>\n",
       "</div>"
      ],
      "text/plain": [
       "        Unnamed: 0.1  Unnamed: 0   index                     id  \\\n",
       "0                  0           0       0  1509680000000000000.0   \n",
       "1                  1           1       1  1509680000000000000.0   \n",
       "2                  2           2       2  1509680000000000000.0   \n",
       "3                  3           3       3  1509680000000000000.0   \n",
       "4                  4           4       4  1509680000000000000.0   \n",
       "...              ...         ...     ...                    ...   \n",
       "182632        182632      182632  182634  1512943257793318912.0   \n",
       "182633        182633      182633  182635  1512943296976457984.0   \n",
       "182634        182634      182634  182636  1512943323409169920.0   \n",
       "182635        182635      182635  182637  1512943336998546944.0   \n",
       "182636        182636      182636  182638  1512943399116148992.0   \n",
       "\n",
       "                                                     text  favourite_count  \\\n",
       "0       Hey fam!, staking is on the way, and now it's ...                7   \n",
       "1       Follow us to receive Premium Signals from Top ...                0   \n",
       "2       If you want to spend 0.04 $MATIC , You can min...                1   \n",
       "3       Minting is live! 25% of minting proceeds will ...                3   \n",
       "4       Current royalties 💰:\\n36.75 SOL ≈ 4513.42 $\\n\\...                0   \n",
       "...                                                   ...              ...   \n",
       "182632  GIVEAWAY ALERT 🚨\\n@MidiModoNFT giving away 1 $...                6   \n",
       "182633  @encrypt_solana One of the best projects you c...                5   \n",
       "182634  @BaconStevensol #STEPN I want to experience it...                1   \n",
       "182635  @SolGiftNFT @TheGoomies SOLANA perfectly 🌠💯 Fr...                0   \n",
       "182636  @hackerhouses Solana shutting down in real lif...                2   \n",
       "\n",
       "        retweet_count           created_at          user_id_str  \\\n",
       "0                   1  2022-04-01 00:00:00  1492964491574845442   \n",
       "1                   0  2022-04-01 00:00:02            575197117   \n",
       "2                   0  2022-04-01 00:00:02  1325342495316738049   \n",
       "3                   2  2022-04-01 00:00:03  1463314448446332930   \n",
       "4                   0  2022-04-01 00:00:03  1259533091842011141   \n",
       "...               ...                  ...                  ...   \n",
       "182632              0  2022-04-09 23:59:16           2148325614   \n",
       "182633              0  2022-04-09 23:59:25  1438520566785314816   \n",
       "182634              0  2022-04-09 23:59:32  1455562402427138051   \n",
       "182635              0  2022-04-09 23:59:35  1382351978798346240   \n",
       "182636              0  2022-04-09 23:59:50  1443325159310602240   \n",
       "\n",
       "                   user_name  ...  \\\n",
       "0       Solana Faction Cards  ...   \n",
       "1         Crypto Signal Mall  ...   \n",
       "2                 Amouba NFT  ...   \n",
       "3            Chuck's Canucks  ...   \n",
       "4         MMCC REWARD STATUS  ...   \n",
       "...                      ...  ...   \n",
       "182632            nandobeatz  ...   \n",
       "182633            Antistatic  ...   \n",
       "182634              Minadori  ...   \n",
       "182635                     B  ...   \n",
       "182636          BlueDude.eth  ...   \n",
       "\n",
       "                                                mentioned  \\\n",
       "0                                                      []   \n",
       "1                                                      []   \n",
       "2                                                      []   \n",
       "3                                            ['@CWF_FCF']   \n",
       "4                                                      []   \n",
       "...                                                   ...   \n",
       "182632                                   ['@MidiModoNFT']   \n",
       "182633                                ['@encrypt_solana']   \n",
       "182634  ['@BaconStevensol', '@vanity1919', '@gorio_mus...   \n",
       "182635     ['@SolGiftNFT', '@TheGoomies', '@SolanaEvent']   \n",
       "182636                                  ['@hackerhouses']   \n",
       "\n",
       "                            high                       low  \\\n",
       "0       122.76999999999999602096  122.32999999999999829470   \n",
       "1       122.76999999999999602096  122.32999999999999829470   \n",
       "2       122.76999999999999602096  122.32999999999999829470   \n",
       "3       122.76999999999999602096  122.32999999999999829470   \n",
       "4       122.76999999999999602096  122.32999999999999829470   \n",
       "...                          ...                       ...   \n",
       "182632  113.17000000000000170530  112.95999999999999374722   \n",
       "182633  113.17000000000000170530  112.95999999999999374722   \n",
       "182634  113.17000000000000170530  112.95999999999999374722   \n",
       "182635  113.17000000000000170530  112.95999999999999374722   \n",
       "182636  113.17000000000000170530  112.95999999999999374722   \n",
       "\n",
       "                            open                    volume_to  \\\n",
       "0       122.73999999999999488409  460390.54999999998835846782   \n",
       "1       122.73999999999999488409  460390.54999999998835846782   \n",
       "2       122.73999999999999488409  460390.54999999998835846782   \n",
       "3       122.73999999999999488409  460390.54999999998835846782   \n",
       "4       122.73999999999999488409  460390.54999999998835846782   \n",
       "...                          ...                          ...   \n",
       "182632  112.95999999999999374722  145632.54000000000814907253   \n",
       "182633  112.95999999999999374722  145632.54000000000814907253   \n",
       "182634  112.95999999999999374722  145632.54000000000814907253   \n",
       "182635  112.95999999999999374722  145632.54000000000814907253   \n",
       "182636  112.95999999999999374722  145632.54000000000814907253   \n",
       "\n",
       "                      volume_from                    close  \\\n",
       "0       3757.19000000000005456968  122.3299999999999982947   \n",
       "1       3757.19000000000005456968  122.3299999999999982947   \n",
       "2       3757.19000000000005456968  122.3299999999999982947   \n",
       "3       3757.19000000000005456968  122.3299999999999982947   \n",
       "4       3757.19000000000005456968  122.3299999999999982947   \n",
       "...                           ...                      ...   \n",
       "182632  1288.01999999999998181011  113.0799999999999982947   \n",
       "182633  1288.01999999999998181011  113.0799999999999982947   \n",
       "182634  1288.01999999999998181011  113.0799999999999982947   \n",
       "182635  1288.01999999999998181011  113.0799999999999982947   \n",
       "182636  1288.01999999999998181011  113.0799999999999982947   \n",
       "\n",
       "                                               clean_text  sentiment_label  \\\n",
       "0       hey fam staking is on the way and now its time...          neutral   \n",
       "1       follow us to receive premium signals from top ...          neutral   \n",
       "2       if you want to spend 004 $matic you can mint a...          neutral   \n",
       "3       minting is live 25 of minting proceeds will be...          neutral   \n",
       "4       current royalties 3675 sol 451342 $meerkatmond...          neutral   \n",
       "...                                                   ...              ...   \n",
       "182632  giveaway alert giving away 1 $sol to a random ...         positive   \n",
       "182633  one of the best projects you could be in and t...         positive   \n",
       "182634  stepn i want to experience it and i want sol i...          neutral   \n",
       "182635                  solana perfectly free airdrop sol          neutral   \n",
       "182636     solana shutting down in real life and on chain          neutral   \n",
       "\n",
       "               sentiment_score  \n",
       "0       0.86607140302658081055  \n",
       "1       0.75937086343765258789  \n",
       "2       0.89317560195922851562  \n",
       "3       0.50828081369400024414  \n",
       "4       0.89019638299942016602  \n",
       "...                        ...  \n",
       "182632  0.80570709705352783203  \n",
       "182633  0.98644465208053599969  \n",
       "182634  0.61593395471572875977  \n",
       "182635  0.63022845983505249023  \n",
       "182636  0.74059796333312988281  \n",
       "\n",
       "[182637 rows x 23 columns]"
      ]
     },
     "execution_count": 775,
     "metadata": {},
     "output_type": "execute_result"
    }
   ],
   "source": [
    "sentiment_df"
   ]
  },
  {
   "cell_type": "code",
   "execution_count": 776,
   "metadata": {},
   "outputs": [
    {
     "data": {
      "text/plain": [
       "Unnamed: 0.1              int64\n",
       "Unnamed: 0                int64\n",
       "index                     int64\n",
       "id                      float64\n",
       "text                     object\n",
       "favourite_count           int64\n",
       "retweet_count             int64\n",
       "created_at               object\n",
       "user_id_str               int64\n",
       "user_name                object\n",
       "user_followers_count      int64\n",
       "user_verified              bool\n",
       "hashtags                 object\n",
       "mentioned                object\n",
       "high                    float64\n",
       "low                     float64\n",
       "open                    float64\n",
       "volume_to               float64\n",
       "volume_from             float64\n",
       "close                   float64\n",
       "clean_text               object\n",
       "sentiment_label          object\n",
       "sentiment_score         float64\n",
       "dtype: object"
      ]
     },
     "execution_count": 776,
     "metadata": {},
     "output_type": "execute_result"
    }
   ],
   "source": [
    "sentiment_df.dtypes"
   ]
  },
  {
   "cell_type": "code",
   "execution_count": 777,
   "metadata": {},
   "outputs": [],
   "source": [
    "# sentiment_df.loc[sentiment_df[\"sentiment_label\"] == \"positive\", \"sentiment_label\"] = 1\n",
    "# sentiment_df.loc[sentiment_df[\"sentiment_label\"] == \"negative\", \"sentiment_label\"] = -1\n",
    "# sentiment_df.loc[sentiment_df[\"sentiment_label\"] == \"neutral\", \"sentiment_label\"] = 0\n",
    "\n",
    "sentiment_df.loc[sentiment_df[\"user_verified\"] == 'True', \"user_verified\"] = 1\n",
    "sentiment_df.loc[sentiment_df[\"user_verified\"] == 'False', \"user_verified\"] = 0"
   ]
  },
  {
   "cell_type": "code",
   "execution_count": 778,
   "metadata": {},
   "outputs": [],
   "source": [
    "sentiment_df[\"positive_score\"] = 0\n",
    "sentiment_df[\"negative_score\"] = 0\n",
    "sentiment_df[\"neutral_score\"] = 0"
   ]
  },
  {
   "cell_type": "code",
   "execution_count": 779,
   "metadata": {},
   "outputs": [],
   "source": [
    "sentiment_df['positive_score'] = np.where(sentiment_df.sentiment_label == 'positive', sentiment_df.sentiment_score, 0)\n",
    "sentiment_df['negative_score'] = np.where(sentiment_df.sentiment_label == 'negative', sentiment_df.sentiment_score, 0)\n",
    "sentiment_df['neutral_score'] = np.where(sentiment_df.sentiment_label == 'neutral', sentiment_df.sentiment_score, 0)"
   ]
  },
  {
   "cell_type": "code",
   "execution_count": 780,
   "metadata": {},
   "outputs": [],
   "source": [
    "sentiment_df['avg_price'] = (sentiment_df.high + sentiment_df.low)/2\n",
    "# sentiment_df = sentiment_df.astype({\"user_verified\":str})"
   ]
  },
  {
   "cell_type": "markdown",
   "metadata": {},
   "source": [
    "Models"
   ]
  },
  {
   "cell_type": "code",
   "execution_count": 781,
   "metadata": {},
   "outputs": [],
   "source": [
    "sentiment_df_copy = sentiment_df.copy(deep=True)"
   ]
  },
  {
   "cell_type": "code",
   "execution_count": 782,
   "metadata": {},
   "outputs": [],
   "source": [
    "enc = OneHotEncoder(sparse=False)\n",
    "color_onehot = enc.fit_transform(sentiment_df_copy[['sentiment_label']])\n",
    "\n",
    "# enc_2 = OneHotEncoder(sparse=False)\n",
    "# verif_onehot = enc_2.fit_transform(sentiment_df_copy[['user_verified']])"
   ]
  },
  {
   "cell_type": "code",
   "execution_count": 783,
   "metadata": {},
   "outputs": [],
   "source": [
    "sentiment_labels = pd.DataFrame(color_onehot, columns=list(enc.categories_[0]))\n",
    "# verif_labels = pd.DataFrame(verif_onehot, columns=['not_verified', 'verified'])\n",
    "# print(verif_labels)\n",
    "sentiment_df_copy = pd.concat([sentiment_df_copy, sentiment_labels], axis=1)"
   ]
  },
  {
   "cell_type": "code",
   "execution_count": 784,
   "metadata": {},
   "outputs": [
    {
     "data": {
      "text/plain": [
       "Index(['Unnamed: 0.1', 'Unnamed: 0', 'index', 'id', 'text', 'favourite_count',\n",
       "       'retweet_count', 'created_at', 'user_id_str', 'user_name',\n",
       "       'user_followers_count', 'user_verified', 'hashtags', 'mentioned',\n",
       "       'high', 'low', 'open', 'volume_to', 'volume_from', 'close',\n",
       "       'clean_text', 'sentiment_label', 'sentiment_score', 'positive_score',\n",
       "       'negative_score', 'neutral_score', 'avg_price', 'negative', 'neutral',\n",
       "       'positive'],\n",
       "      dtype='object')"
      ]
     },
     "execution_count": 784,
     "metadata": {},
     "output_type": "execute_result"
    }
   ],
   "source": [
    "sentiment_df_copy.columns"
   ]
  },
  {
   "cell_type": "code",
   "execution_count": 785,
   "metadata": {},
   "outputs": [],
   "source": [
    "# sentiment_df_copy.drop(columns=['sentiment_score'])\n",
    "sentiment_df_copy = sentiment_df_copy.reset_index()\n",
    "sentiment_df_copy.dropna(inplace=True)"
   ]
  },
  {
   "cell_type": "code",
   "execution_count": 786,
   "metadata": {},
   "outputs": [
    {
     "data": {
      "text/plain": [
       "0"
      ]
     },
     "execution_count": 786,
     "metadata": {},
     "output_type": "execute_result"
    }
   ],
   "source": [
    "# sentiment_df_copy.isnull().values.any()\n",
    "sentiment_df_copy.isnull().sum().sum()\n"
   ]
  },
  {
   "cell_type": "code",
   "execution_count": 787,
   "metadata": {},
   "outputs": [
    {
     "data": {
      "text/plain": [
       "(182635, 11)"
      ]
     },
     "execution_count": 787,
     "metadata": {},
     "output_type": "execute_result"
    }
   ],
   "source": [
    "model_data = np.array(sentiment_df_copy[['favourite_count', 'retweet_count', 'user_followers_count', 'user_verified', 'negative', 'neutral', 'positive', 'positive_score', 'negative_score', 'neutral_score', 'avg_price']])\n",
    "model_data.shape"
   ]
  },
  {
   "cell_type": "code",
   "execution_count": null,
   "metadata": {},
   "outputs": [],
   "source": []
  },
  {
   "cell_type": "code",
   "execution_count": 788,
   "metadata": {},
   "outputs": [],
   "source": [
    "if(crypto == 'avax'):\n",
    "    model_data = np.delete(model_data, 20642, 0)"
   ]
  },
  {
   "cell_type": "code",
   "execution_count": 789,
   "metadata": {},
   "outputs": [],
   "source": [
    "model_data = model_data.astype(float)"
   ]
  },
  {
   "cell_type": "code",
   "execution_count": 790,
   "metadata": {},
   "outputs": [
    {
     "data": {
      "text/plain": [
       "array([7.00000000e+00, 1.00000000e+00, 2.39600000e+03, 0.00000000e+00,\n",
       "       0.00000000e+00, 1.00000000e+00, 0.00000000e+00, 0.00000000e+00,\n",
       "       0.00000000e+00, 8.66071403e-01, 1.22550000e+02])"
      ]
     },
     "execution_count": 790,
     "metadata": {},
     "output_type": "execute_result"
    }
   ],
   "source": [
    "model_data[0]"
   ]
  },
  {
   "cell_type": "code",
   "execution_count": 791,
   "metadata": {},
   "outputs": [
    {
     "name": "stdout",
     "output_type": "stream",
     "text": [
      "(182635, 10)\n",
      "(182635, 1)\n"
     ]
    }
   ],
   "source": [
    "feature_data = model_data[:, :10]\n",
    "print(feature_data.shape)\n",
    "y_price = model_data[:, 10:]\n",
    "print(y_price.shape)"
   ]
  },
  {
   "cell_type": "code",
   "execution_count": 792,
   "metadata": {},
   "outputs": [
    {
     "data": {
      "text/plain": [
       "array([7.00000000e+00, 1.00000000e+00, 2.39600000e+03, 0.00000000e+00,\n",
       "       0.00000000e+00, 1.00000000e+00, 0.00000000e+00, 0.00000000e+00,\n",
       "       0.00000000e+00, 8.66071403e-01])"
      ]
     },
     "execution_count": 792,
     "metadata": {},
     "output_type": "execute_result"
    }
   ],
   "source": [
    "feature_data[0]"
   ]
  },
  {
   "cell_type": "code",
   "execution_count": 793,
   "metadata": {},
   "outputs": [],
   "source": [
    "test_size = 0.3\n",
    "total_samples = feature_data.shape[0]\n",
    "test_samples = int(0.3 * total_samples)\n",
    "train_samples = total_samples - test_samples\n",
    "\n",
    "train_x = feature_data[:train_samples, :]\n",
    "test_x = feature_data[train_samples:,:]\n",
    "train_y = y_price[:train_samples]\n",
    "test_y = y_price[train_samples:]\n"
   ]
  },
  {
   "cell_type": "code",
   "execution_count": 794,
   "metadata": {},
   "outputs": [],
   "source": [
    "# train_x, test_x, train_y, test_y = train_test_split(feature_data, y_price, shuffle=False, test_size=0.3)"
   ]
  },
  {
   "cell_type": "code",
   "execution_count": 795,
   "metadata": {},
   "outputs": [],
   "source": [
    "# # Standar Scaler\n",
    "scaler = StandardScaler()\n",
    "scaled_train_x = scaler.fit_transform(train_x)\n",
    "scaled_test_x = scaler.transform(test_x)\n",
    "\n",
    "# # MinMax Scaler\n",
    "# scaler = MinMaxScaler()\n",
    "# scaled_train_x = scaler.fit_transform(train_x)\n",
    "# scaled_test_x = scaler.transform(test_x)"
   ]
  },
  {
   "cell_type": "code",
   "execution_count": 796,
   "metadata": {},
   "outputs": [
    {
     "name": "stdout",
     "output_type": "stream",
     "text": [
      "(127845, 10)\n",
      "(54790, 10)\n",
      "(127845,)\n",
      "(54790,)\n"
     ]
    }
   ],
   "source": [
    "train_y = train_y.reshape((train_y.shape[0],))\n",
    "test_y = test_y.reshape((test_y.shape[0],))\n",
    "print(train_x.shape)\n",
    "print(test_x.shape)\n",
    "print(train_y.shape)\n",
    "print(test_y.shape)"
   ]
  },
  {
   "cell_type": "code",
   "execution_count": 797,
   "metadata": {},
   "outputs": [
    {
     "data": {
      "text/plain": [
       "array([7.00000000e+00, 1.00000000e+00, 2.39600000e+03, 0.00000000e+00,\n",
       "       0.00000000e+00, 1.00000000e+00, 0.00000000e+00, 0.00000000e+00,\n",
       "       0.00000000e+00, 8.66071403e-01])"
      ]
     },
     "execution_count": 797,
     "metadata": {},
     "output_type": "execute_result"
    }
   ],
   "source": [
    "# train_x.astype(float)\n",
    "train_x[0]"
   ]
  },
  {
   "cell_type": "markdown",
   "metadata": {},
   "source": [
    "Linear Regression"
   ]
  },
  {
   "cell_type": "code",
   "execution_count": 798,
   "metadata": {},
   "outputs": [
    {
     "data": {
      "text/plain": [
       "LinearRegression()"
      ]
     },
     "execution_count": 798,
     "metadata": {},
     "output_type": "execute_result"
    }
   ],
   "source": [
    "model_lr = LinearRegression()\n",
    "model_lr.fit(train_x, train_y)"
   ]
  },
  {
   "cell_type": "code",
   "execution_count": 799,
   "metadata": {},
   "outputs": [],
   "source": [
    "y_pred = model_lr.predict(test_x)"
   ]
  },
  {
   "cell_type": "code",
   "execution_count": 800,
   "metadata": {},
   "outputs": [
    {
     "name": "stdout",
     "output_type": "stream",
     "text": [
      "[130.40315551 130.49707158 130.74636125 ... 130.11653552 130.13285224\n",
      " 130.24928785]\n"
     ]
    }
   ],
   "source": [
    "print(y_pred)"
   ]
  },
  {
   "cell_type": "code",
   "execution_count": 801,
   "metadata": {},
   "outputs": [
    {
     "name": "stdout",
     "output_type": "stream",
     "text": [
      "                         Actual                 Predicted\n",
      "0      114.16499999999999204192  130.40315551417921824395\n",
      "1      114.16499999999999204192  130.49707157674637869604\n",
      "2      114.16499999999999204192  130.74636125254369289905\n",
      "3      114.16499999999999204192  130.73433743206265944536\n",
      "4      114.16499999999999204192  130.31789304258188622043\n",
      "...                         ...                       ...\n",
      "54785  113.06499999999999772626  130.54437487514391591503\n",
      "54786  113.06499999999999772626  130.74805519041771617594\n",
      "54787  113.06499999999999772626  130.11653551830920605425\n",
      "54788  113.06499999999999772626  130.13285223534097667653\n",
      "54789  113.06499999999999772626  130.24928784642952450668\n",
      "\n",
      "[54790 rows x 2 columns]\n"
     ]
    }
   ],
   "source": [
    "df = pd.DataFrame({'Actual': test_y.flatten(), 'Predicted': y_pred.flatten()})\n",
    "pd.set_option(\"display.precision\", 20)\n",
    "print(df)"
   ]
  },
  {
   "cell_type": "code",
   "execution_count": 802,
   "metadata": {},
   "outputs": [
    {
     "name": "stdout",
     "output_type": "stream",
     "text": [
      "Mean Absolute Error: 15.860058949338642\n",
      "Mean Squared Error: 264.6696673035246\n",
      "Root Mean Squared Error: 16.268671344136393\n"
     ]
    }
   ],
   "source": [
    "print('Mean Absolute Error:', metrics.mean_absolute_error(test_y, y_pred))  \n",
    "print('Mean Squared Error:', metrics.mean_squared_error(test_y, y_pred))  \n",
    "print('Root Mean Squared Error:', np.sqrt(metrics.mean_squared_error(test_y, y_pred)))"
   ]
  },
  {
   "cell_type": "code",
   "execution_count": 803,
   "metadata": {},
   "outputs": [],
   "source": [
    "model_path_1 = f'./saved_models/{crypto}/lr.sav'\n",
    "pickle.dump(model_lr, open(model_path_1, 'wb'))"
   ]
  },
  {
   "cell_type": "markdown",
   "metadata": {},
   "source": [
    "SGD Regressor"
   ]
  },
  {
   "cell_type": "code",
   "execution_count": 804,
   "metadata": {},
   "outputs": [],
   "source": [
    "import sys\n",
    "import io\n",
    "import matplotlib.pyplot as plt\n",
    "\n",
    "class DisplayLossCurve(object):\n",
    "  def __init__(self, print_loss=False):\n",
    "    self.print_loss = print_loss\n",
    "\n",
    "  \"\"\"Make sure the model verbose is set to 1\"\"\"\n",
    "  def __enter__(self):\n",
    "    self.old_stdout = sys.stdout\n",
    "    sys.stdout = self.mystdout = io.StringIO()\n",
    "  \n",
    "  def __exit__(self, *args, **kwargs):\n",
    "    sys.stdout = self.old_stdout\n",
    "    loss_history = self.mystdout.getvalue()\n",
    "    loss_list = []\n",
    "    for line in loss_history.split('\\n'):\n",
    "      if(len(line.split(\"loss: \")) == 1):\n",
    "        continue\n",
    "      loss_list.append(float(line.split(\"loss: \")[-1]))\n",
    "    plt.figure()\n",
    "    plt.plot(np.arange(len(loss_list)), loss_list)\n",
    "    plt.xlabel(\"Epoch\")\n",
    "    plt.ylabel(\"Loss\")\n",
    "    plt.savefig(f'./loss_curves/{crypto}_loss.png', bbox_inches='tight', facecolor='w')\n",
    "\n",
    "    if self.print_loss:\n",
    "      print(\"=============== Loss Array ===============\")\n",
    "      print(np.array(loss_list))\n",
    "      \n",
    "    return True"
   ]
  },
  {
   "cell_type": "code",
   "execution_count": 805,
   "metadata": {},
   "outputs": [],
   "source": [
    "model_sgd = SGDRegressor(loss='huber', alpha=0.01, penalty='l2', max_iter=100, learning_rate='adaptive', eta0=0.01, verbose=1, early_stopping=True)"
   ]
  },
  {
   "cell_type": "code",
   "execution_count": 806,
   "metadata": {},
   "outputs": [
    {
     "name": "stdout",
     "output_type": "stream",
     "text": [
      "=============== Loss Array ===============\n",
      "[6.549294 0.587998 0.51526  0.515229 0.515234 0.515247 0.515197 0.515089\n",
      " 0.515099 0.515063 0.515066 0.515067 0.51508  0.515073 0.515058 0.51506\n",
      " 0.515043 0.515037 0.515043 0.515044 0.515028 0.515025 0.515029 0.515028\n",
      " 0.515024 0.515025 0.515025 0.515024 0.515024 0.515025 0.515024 0.515024\n",
      " 0.515024 0.515024 0.515024 0.515024 0.515024 0.515024 0.515024 0.515024]\n"
     ]
    },
    {
     "data": {
      "image/png": "[encoded data removed]",
      "text/plain": [
       "<Figure size 432x288 with 1 Axes>"
      ]
     },
     "metadata": {
      "needs_background": "light"
     },
     "output_type": "display_data"
    }
   ],
   "source": [
    "with DisplayLossCurve(print_loss=True):\n",
    "    model_sgd.fit(scaled_train_x, train_y)"
   ]
  },
  {
   "cell_type": "code",
   "execution_count": 807,
   "metadata": {},
   "outputs": [],
   "source": [
    "preds = model_sgd.predict(scaled_test_x)"
   ]
  },
  {
   "cell_type": "code",
   "execution_count": 808,
   "metadata": {},
   "outputs": [
    {
     "data": {
      "text/plain": [
       "array([132.7584854 , 132.95021604, 133.00404172, ..., 132.76065918,\n",
       "       132.76077258, 132.75965773])"
      ]
     },
     "execution_count": 808,
     "metadata": {},
     "output_type": "execute_result"
    }
   ],
   "source": [
    "preds"
   ]
  },
  {
   "cell_type": "code",
   "execution_count": 809,
   "metadata": {},
   "outputs": [
    {
     "name": "stdout",
     "output_type": "stream",
     "text": [
      "Mean Absolute Error: 18.34357413934174\n",
      "Mean Squared Error: 349.43076644040275\n",
      "Root Mean Squared Error: 18.69306733632559\n",
      "R2 Score :  -5206.239376308242\n"
     ]
    }
   ],
   "source": [
    "print('Mean Absolute Error:', metrics.mean_absolute_error(test_y, preds))  \n",
    "print('Mean Squared Error:', metrics.mean_squared_error(test_y, preds))  \n",
    "print('Root Mean Squared Error:', np.sqrt(metrics.mean_squared_error(test_y, preds)))\n",
    "print('R2 Score : ', metrics.r2_score(preds, test_y))"
   ]
  },
  {
   "cell_type": "code",
   "execution_count": 810,
   "metadata": {},
   "outputs": [],
   "source": [
    "model_path_2 = f'./saved_models/{crypto}/sgd.sav'\n",
    "pickle.dump(model_sgd, open(model_path_2, 'wb'))"
   ]
  },
  {
   "cell_type": "markdown",
   "metadata": {},
   "source": [
    "RF Regressor"
   ]
  },
  {
   "cell_type": "code",
   "execution_count": 811,
   "metadata": {},
   "outputs": [],
   "source": [
    "rf_regressor = RandomForestRegressor(max_depth=5, random_state=42)"
   ]
  },
  {
   "cell_type": "code",
   "execution_count": 812,
   "metadata": {},
   "outputs": [
    {
     "data": {
      "text/plain": [
       "RandomForestRegressor(max_depth=5, random_state=42)"
      ]
     },
     "execution_count": 812,
     "metadata": {},
     "output_type": "execute_result"
    }
   ],
   "source": [
    "rf_regressor.fit(train_x, train_y)"
   ]
  },
  {
   "cell_type": "code",
   "execution_count": 813,
   "metadata": {},
   "outputs": [],
   "source": [
    "rf_preds = rf_regressor.predict(test_x)"
   ]
  },
  {
   "cell_type": "code",
   "execution_count": 814,
   "metadata": {},
   "outputs": [
    {
     "name": "stdout",
     "output_type": "stream",
     "text": [
      "Mean Absolute Error: 15.829833784900144\n",
      "Mean Squared Error: 263.9907610391629\n",
      "Root Mean Squared Error: 16.247792497418317\n"
     ]
    }
   ],
   "source": [
    "print('Mean Absolute Error:', metrics.mean_absolute_error(test_y, rf_preds))  \n",
    "print('Mean Squared Error:', metrics.mean_squared_error(test_y, rf_preds))  \n",
    "print('Root Mean Squared Error:', np.sqrt(metrics.mean_squared_error(test_y, rf_preds)))\n",
    "# print('R2 Score : ', metrics.r2_score(rf_preds, test_y))"
   ]
  },
  {
   "cell_type": "code",
   "execution_count": 815,
   "metadata": {},
   "outputs": [],
   "source": [
    "model_path_3 = f'./saved_models/{crypto}/rf.sav'\n",
    "pickle.dump(rf_regressor, open(model_path_3, 'wb'))"
   ]
  }
 ],
 "metadata": {
  "interpreter": {
   "hash": "2370e07001db70a9c24f7e21173c51fbc4321340913a02830aed4885459fa0a0"
  },
  "kernelspec": {
   "display_name": "Python 3.8.10 64-bit",
   "language": "python",
   "name": "python3"
  },
  "language_info": {
   "codemirror_mode": {
    "name": "ipython",
    "version": 3
   },
   "file_extension": ".py",
   "mimetype": "text/x-python",
   "name": "python",
   "nbconvert_exporter": "python",
   "pygments_lexer": "ipython3",
   "version": "3.8.10"
  },
  "orig_nbformat": 4
 },
 "nbformat": 4,
 "nbformat_minor": 2
}
