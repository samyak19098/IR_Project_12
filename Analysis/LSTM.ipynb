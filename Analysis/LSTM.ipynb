{
  "cells": [
    {
      "cell_type": "code",
      "execution_count": null,
      "metadata": {
        "colab": {
          "base_uri": "https://localhost:8080/"
        },
        "id": "rRa7IrnOH1Se",
        "outputId": "2ddeb3da-5f52-424e-fb26-7e9987138c3c"
      },
      "outputs": [
        {
          "output_type": "stream",
          "name": "stdout",
          "text": [
            "Mounted at /content/drive\n"
          ]
        }
      ],
      "source": [
        "from google.colab import drive\n",
        "drive.mount('/content/drive')"
      ]
    },
    {
      "cell_type": "code",
      "execution_count": null,
      "metadata": {
        "id": "dXCvwNXqJwBX"
      },
      "outputs": [],
      "source": [
        "import sklearn\n",
        "import pandas as pd\n",
        "import numpy as np\n",
        "from sklearn.model_selection import train_test_split\n",
        "from sklearn.linear_model import LinearRegression, SGDRegressor\n",
        "import matplotlib.pyplot as plt\n",
        "import sklearn.metrics as metrics\n",
        "from sklearn.preprocessing import OneHotEncoder\n",
        "from sklearn.preprocessing import StandardScaler, MinMaxScaler, normalize\n",
        "from sklearn.neural_network import MLPRegressor\n",
        "from sklearn.ensemble import RandomForestRegressor\n",
        "import pickle\n",
        "from tqdm import tqdm\n",
        "import math\n",
        "# from tsmoothie.smoother import KalmanSmoother\n",
        "# sklearn.linear_model.SGDRegressor"
      ]
    },
    {
      "cell_type": "code",
      "execution_count": null,
      "metadata": {
        "id": "jDGXaBkpJUtM"
      },
      "outputs": [],
      "source": [
        "crypto = \"matic\"\n",
        "without_meta = 1\n",
        "save = False"
      ]
    },
    {
      "cell_type": "code",
      "source": [
        "if(without_meta == 1):\n",
        "  # results_path = f\"/content/drive/MyDrive/IR_Project/final_sentiment_tweet_crypto_data/LSTM_Results/{crypto}/without_meta/\"\n",
        "  results_path = f\"/content/drive/MyDrive/IR_Project/final_sentiment_tweet_crypto_data/final_LSTM_results/{crypto}/without_meta/\"\n",
        "else:\n",
        "  # results_path = f\"/content/drive/MyDrive/IR_Project/final_sentiment_tweet_crypto_data/LSTM_Results/{crypto}/with_meta/\"\n",
        "  results_path = f\"/content/drive/MyDrive/IR_Project/final_sentiment_tweet_crypto_data/final_LSTM_results/{crypto}/with_meta/\""
      ],
      "metadata": {
        "id": "EXif1a28OEjk"
      },
      "execution_count": null,
      "outputs": []
    },
    {
      "cell_type": "code",
      "execution_count": null,
      "metadata": {
        "id": "0MtjUujPJn0r",
        "colab": {
          "base_uri": "https://localhost:8080/"
        },
        "outputId": "61d7661c-9410-419b-fdc8-9442c7d2f515"
      },
      "outputs": [
        {
          "output_type": "stream",
          "name": "stderr",
          "text": [
            "/usr/local/lib/python3.7/dist-packages/IPython/core/interactiveshell.py:2882: DtypeWarning: Columns (1,6,8,10,11,17) have mixed types.Specify dtype option on import or set low_memory=False.\n",
            "  exec(code_obj, self.user_global_ns, self.user_ns)\n"
          ]
        }
      ],
      "source": [
        "sentiment_df = pd.read_csv(f\"/content/drive/MyDrive/IR_Project/final_sentiment_tweet_crypto_data/{crypto}_sentiment.csv\")"
      ]
    },
    {
      "cell_type": "code",
      "execution_count": null,
      "metadata": {
        "colab": {
          "base_uri": "https://localhost:8080/"
        },
        "id": "3MkjfX6qJ9qL",
        "outputId": "27235889-d4d5-4a7f-f128-8338898cfdad"
      },
      "outputs": [
        {
          "output_type": "execute_result",
          "data": {
            "text/plain": [
              "(263119, 23)"
            ]
          },
          "metadata": {},
          "execution_count": 10
        }
      ],
      "source": [
        "sentiment_df.shape"
      ]
    },
    {
      "cell_type": "code",
      "execution_count": null,
      "metadata": {
        "id": "V6td8d8QKB7T"
      },
      "outputs": [],
      "source": [
        "sentiment_df.loc[sentiment_df[\"user_verified\"] == 'True', \"user_verified\"] = 1\n",
        "sentiment_df.loc[sentiment_df[\"user_verified\"] == 'False', \"user_verified\"] = -1"
      ]
    },
    {
      "cell_type": "code",
      "execution_count": null,
      "metadata": {
        "id": "bla0FacxKDHp"
      },
      "outputs": [],
      "source": [
        "sentiment_df[\"positive_score\"] = 0\n",
        "sentiment_df[\"negative_score\"] = 0\n",
        "sentiment_df[\"neutral_score\"] = 0\n",
        "sentiment_df[\"scaled_score\"] = 0"
      ]
    },
    {
      "cell_type": "code",
      "execution_count": null,
      "metadata": {
        "id": "f17di3EJV97_"
      },
      "outputs": [],
      "source": [
        "import random"
      ]
    },
    {
      "cell_type": "code",
      "source": [
        "def scale_sentiment_score(label, score):\n",
        "  if(label == 'positive'):\n",
        "    # print('pos')\n",
        "    scaled_score = score\n",
        "  elif(label == 'negative'):\n",
        "    scaled_score = -1 * score\n",
        "  else:\n",
        "    scaled_score = random.choice([-1, 1])*(0.5 - (0.5 * score))\n",
        "  return scaled_score\n",
        "\n",
        "sentiment_df['scaled_score'] = sentiment_df.apply(lambda x: scale_sentiment_score(x.sentiment_label, x.sentiment_score), axis=1)"
      ],
      "metadata": {
        "id": "YFLWpp0UP5NG"
      },
      "execution_count": null,
      "outputs": []
    },
    {
      "cell_type": "code",
      "execution_count": null,
      "metadata": {
        "id": "HxjaxXe5UiGv"
      },
      "outputs": [],
      "source": [
        "# for i in tqdm(range(sentiment_df.shape[0])):\n",
        "#   scaled_score = 0\n",
        "#   label = sentiment_df.iloc[i]['sentiment_label']\n",
        "#   score = sentiment_df.iloc[i]['sentiment_score']\n",
        "#   if(label == 'positive'):\n",
        "#     scaled_score = score\n",
        "#   elif(label == 'negative'):\n",
        "#     scaled_score = -1 * score\n",
        "#   else:\n",
        "#     scaled_score = random.choice([-1, 1])*(0.5 - (0.5 * score))\n",
        "#   sentiment_df.loc[i, 'scaled_score'] = scaled_score"
      ]
    },
    {
      "cell_type": "code",
      "execution_count": null,
      "metadata": {
        "id": "gdVwSF-RKF3h"
      },
      "outputs": [],
      "source": [
        "sentiment_df['positive_score'] = np.where(sentiment_df.sentiment_label == 'positive', sentiment_df.sentiment_score, 0)\n",
        "sentiment_df['negative_score'] = np.where(sentiment_df.sentiment_label == 'negative', sentiment_df.sentiment_score, 0)\n",
        "sentiment_df['neutral_score'] = np.where(sentiment_df.sentiment_label == 'neutral', sentiment_df.sentiment_score, 0)"
      ]
    },
    {
      "cell_type": "code",
      "execution_count": null,
      "metadata": {
        "colab": {
          "base_uri": "https://localhost:8080/"
        },
        "id": "CDzdJp9gWp9x",
        "outputId": "2a24c5ef-475a-4aa5-fab7-fc047fc75902"
      },
      "outputs": [
        {
          "output_type": "execute_result",
          "data": {
            "text/plain": [
              "0        -0.109407\n",
              "1         0.059999\n",
              "2        -0.157771\n",
              "3        -0.509790\n",
              "4        -0.126895\n",
              "            ...   \n",
              "263114    0.034388\n",
              "263115    0.978472\n",
              "263116   -0.040370\n",
              "263117   -0.045906\n",
              "263118   -0.148154\n",
              "Name: scaled_score, Length: 263119, dtype: float64"
            ]
          },
          "metadata": {},
          "execution_count": 17
        }
      ],
      "source": [
        "sentiment_df['scaled_score']"
      ]
    },
    {
      "cell_type": "code",
      "execution_count": null,
      "metadata": {
        "id": "zDByc6dKKIDf"
      },
      "outputs": [],
      "source": [
        "sentiment_df['avg_price'] = (sentiment_df.high + sentiment_df.low)/2"
      ]
    },
    {
      "cell_type": "code",
      "execution_count": null,
      "metadata": {
        "id": "3-MAbgD7KKTB"
      },
      "outputs": [],
      "source": [
        "sentiment_df_copy = sentiment_df.copy(deep=True)"
      ]
    },
    {
      "cell_type": "code",
      "execution_count": null,
      "metadata": {
        "id": "zd9r9jdkKL7a"
      },
      "outputs": [],
      "source": [
        "enc = OneHotEncoder(sparse=False)\n",
        "color_onehot = enc.fit_transform(sentiment_df_copy[['sentiment_label']])"
      ]
    },
    {
      "cell_type": "code",
      "execution_count": null,
      "metadata": {
        "id": "_1_knRYYKNcp"
      },
      "outputs": [],
      "source": [
        "sentiment_labels = pd.DataFrame(color_onehot, columns=list(enc.categories_[0]))\n",
        "# verif_labels = pd.DataFrame(verif_onehot, columns=['not_verified', 'verified'])\n",
        "# print(verif_labels)\n",
        "sentiment_df_copy = pd.concat([sentiment_df_copy, sentiment_labels], axis=1)"
      ]
    },
    {
      "cell_type": "code",
      "execution_count": null,
      "metadata": {
        "colab": {
          "base_uri": "https://localhost:8080/"
        },
        "id": "7Mc0kZn9KPRt",
        "outputId": "774698c7-ed63-4038-9d0f-cebb7bd6dfac"
      },
      "outputs": [
        {
          "output_type": "execute_result",
          "data": {
            "text/plain": [
              "Index(['Unnamed: 0', 'Unnamed: 0.1', 'index', 'id', 'text', 'favourite_count',\n",
              "       'retweet_count', 'created_at', 'user_id_str', 'user_name',\n",
              "       'user_followers_count', 'user_verified', 'hashtags', 'mentioned',\n",
              "       'high', 'low', 'open', 'volume_to', 'volume_from', 'close',\n",
              "       'clean_text', 'sentiment_label', 'sentiment_score', 'positive_score',\n",
              "       'negative_score', 'neutral_score', 'scaled_score', 'avg_price',\n",
              "       'negative', 'neutral', 'positive'],\n",
              "      dtype='object')"
            ]
          },
          "metadata": {},
          "execution_count": 22
        }
      ],
      "source": [
        "sentiment_df_copy.columns"
      ]
    },
    {
      "cell_type": "code",
      "execution_count": null,
      "metadata": {
        "id": "8IibxEMQKQdy"
      },
      "outputs": [],
      "source": [
        "# sentiment_df_copy.drop(columns=['sentiment_score'])\n",
        "sentiment_df_copy = sentiment_df_copy.reset_index()\n",
        "sentiment_df_copy.dropna(inplace=True)"
      ]
    },
    {
      "cell_type": "code",
      "execution_count": null,
      "metadata": {
        "id": "97kCWzpPT0N2"
      },
      "outputs": [],
      "source": [
        "sentiment_df_copy['created_at'] = pd.to_datetime(sentiment_df_copy['created_at'])"
      ]
    },
    {
      "cell_type": "code",
      "execution_count": null,
      "metadata": {
        "id": "2hlV4HLqUNiT"
      },
      "outputs": [],
      "source": [
        "sentiment_df_copy['year'] = sentiment_df_copy['created_at'].dt.year\n",
        "sentiment_df_copy['month'] = sentiment_df_copy['created_at'].dt.month\n",
        "sentiment_df_copy['day'] = sentiment_df_copy['created_at'].dt.day\n",
        "sentiment_df_copy['hour'] = sentiment_df_copy['created_at'].dt.hour\n",
        "sentiment_df_copy['minute'] = sentiment_df_copy['created_at'].dt.minute\n",
        "sentiment_df_copy['second'] = sentiment_df_copy['created_at'].dt.second"
      ]
    },
    {
      "cell_type": "code",
      "execution_count": null,
      "metadata": {
        "id": "KM8O4fNZUELa"
      },
      "outputs": [],
      "source": [
        "# sentiment_df_copy['']"
      ]
    },
    {
      "cell_type": "code",
      "source": [
        "sentiment_df_copy['sentiment_val'] = 0"
      ],
      "metadata": {
        "id": "lmcybkiw310B"
      },
      "execution_count": null,
      "outputs": []
    },
    {
      "cell_type": "code",
      "source": [
        "def apply_mapping(x):\n",
        "  if(x == 'positive'):\n",
        "    return 1\n",
        "  elif(x == 'negative'):\n",
        "    return -1\n",
        "  elif(x == 'neutral'):\n",
        "    return 0\n",
        "\n",
        "# def apply_verif_\n",
        "  \n",
        "sentiment_df_copy['sentiment_mapping'] = sentiment_df_copy['sentiment_label'].apply(apply_mapping)"
      ],
      "metadata": {
        "id": "phSz68zv4Q-7"
      },
      "execution_count": null,
      "outputs": []
    },
    {
      "cell_type": "code",
      "source": [
        "# import math\n",
        "# def apply_log(x):\n",
        "#   # print(x)\n",
        "#   if(float(x) == 0):\n",
        "#     return 0\n",
        "#   return math.log10(float(x))\n",
        "# # print(apply_log(100))\n",
        "\n",
        "# sentiment_df_copy['log_rt'] = sentiment_df_copy['retweet_count'].apply(apply_log)\n",
        "# sentiment_df_copy['log_fav'] = sentiment_df_copy['favourite_count'].apply(apply_log)\n",
        "# # sentiment_df_copy['log_']"
      ],
      "metadata": {
        "id": "y1z6mogVMcAZ"
      },
      "execution_count": null,
      "outputs": []
    },
    {
      "cell_type": "code",
      "source": [
        "mm = MinMaxScaler()\n",
        "sentiment_df_copy[['popularity_scale', 'favourite_scale', 'retweet_scale']] = mm.fit_transform(sentiment_df_copy[['user_followers_count', 'favourite_count', 'retweet_count']])"
      ],
      "metadata": {
        "id": "qdzcxhPKvjDH"
      },
      "execution_count": null,
      "outputs": []
    },
    {
      "cell_type": "code",
      "execution_count": null,
      "metadata": {
        "id": "S1dqOa1LUQWD"
      },
      "outputs": [],
      "source": [
        "# list_of_features = ['favourite_count', 'retweet_count', 'user_followers_count', 'user_verified', 'negative', 'neutral', 'positive', 'positive_score', 'negative_score', 'neutral_score', 'high', 'low', 'open', 'volume_to', 'volume_from', 'close']\n",
        "# list_of_features = ['log_rt', 'log_fav', 'sentiment_mapping', 'scaled_score', 'high', 'low', 'open', 'volume_to', 'volume_from', 'close']\n",
        "if(without_meta == 1):\n",
        "  list_of_features = ['scaled_score', 'sentiment_mapping', 'high', 'low', 'open', 'volume_to', 'volume_from', 'close']\n",
        "else:\n",
        "  list_of_features = ['popularity_scale', 'favourite_scale', 'retweet_scale', 'user_verified', 'scaled_score', 'sentiment_mapping', 'high', 'low', 'open', 'volume_to', 'volume_from', 'close']\n",
        "# list_of_features = ['favourite_count', 'retweet_count', 'user_followers_count', 'user_verified', 'negative', 'neutral', 'positive', 'positive_score', 'negative_score', 'neutral_score', 'high', 'low', 'open', 'volume_to', 'volume_from', 'close', 'avg_price']\n"
      ]
    },
    {
      "cell_type": "code",
      "execution_count": null,
      "metadata": {
        "colab": {
          "base_uri": "https://localhost:8080/"
        },
        "id": "t0d8DfqBKSXi",
        "outputId": "5b47ee5c-ea67-4127-f079-98f3e10c66c8"
      },
      "outputs": [
        {
          "output_type": "execute_result",
          "data": {
            "text/plain": [
              "(263077, 8)"
            ]
          },
          "metadata": {},
          "execution_count": 32
        }
      ],
      "source": [
        "model_data = np.array(sentiment_df_copy[list_of_features])\n",
        "model_data.shape"
      ]
    },
    {
      "cell_type": "code",
      "source": [
        "sent = sentiment_df_copy[['sentiment_score', 'sentiment_mapping', 'scaled_score','close','open', 'high', 'low']]\n",
        "sent.corr(method ='pearson')"
      ],
      "metadata": {
        "colab": {
          "base_uri": "https://localhost:8080/",
          "height": 269
        },
        "id": "46_c2Pwblixx",
        "outputId": "9772e6b5-605d-4da0-a24b-64514f2a15af"
      },
      "execution_count": null,
      "outputs": [
        {
          "output_type": "execute_result",
          "data": {
            "text/plain": [
              "                   sentiment_score  sentiment_mapping  scaled_score     close  \\\n",
              "sentiment_score           1.000000           0.064830      0.138106  0.024170   \n",
              "sentiment_mapping         0.064830           1.000000      0.953331  0.057182   \n",
              "scaled_score              0.138106           0.953331      1.000000  0.059861   \n",
              "close                     0.024170           0.057182      0.059861  1.000000   \n",
              "open                      0.024124           0.057218      0.059879  0.999854   \n",
              "high                      0.024160           0.057243      0.059913  0.999929   \n",
              "low                       0.024137           0.057170      0.059842  0.999936   \n",
              "\n",
              "                       open      high       low  \n",
              "sentiment_score    0.024124  0.024160  0.024137  \n",
              "sentiment_mapping  0.057218  0.057243  0.057170  \n",
              "scaled_score       0.059879  0.059913  0.059842  \n",
              "close              0.999854  0.999929  0.999936  \n",
              "open               1.000000  0.999933  0.999922  \n",
              "high               0.999933  1.000000  0.999900  \n",
              "low                0.999922  0.999900  1.000000  "
            ],
            "text/html": [
              "\n",
              "  <div id=\"df-4b2d72b4-fd64-4321-8220-fa91ca4e073f\">\n",
              "    <div class=\"colab-df-container\">\n",
              "      <div>\n",
              "<style scoped>\n",
              "    .dataframe tbody tr th:only-of-type {\n",
              "        vertical-align: middle;\n",
              "    }\n",
              "\n",
              "    .dataframe tbody tr th {\n",
              "        vertical-align: top;\n",
              "    }\n",
              "\n",
              "    .dataframe thead th {\n",
              "        text-align: right;\n",
              "    }\n",
              "</style>\n",
              "<table border=\"1\" class=\"dataframe\">\n",
              "  <thead>\n",
              "    <tr style=\"text-align: right;\">\n",
              "      <th></th>\n",
              "      <th>sentiment_score</th>\n",
              "      <th>sentiment_mapping</th>\n",
              "      <th>scaled_score</th>\n",
              "      <th>close</th>\n",
              "      <th>open</th>\n",
              "      <th>high</th>\n",
              "      <th>low</th>\n",
              "    </tr>\n",
              "  </thead>\n",
              "  <tbody>\n",
              "    <tr>\n",
              "      <th>sentiment_score</th>\n",
              "      <td>1.000000</td>\n",
              "      <td>0.064830</td>\n",
              "      <td>0.138106</td>\n",
              "      <td>0.024170</td>\n",
              "      <td>0.024124</td>\n",
              "      <td>0.024160</td>\n",
              "      <td>0.024137</td>\n",
              "    </tr>\n",
              "    <tr>\n",
              "      <th>sentiment_mapping</th>\n",
              "      <td>0.064830</td>\n",
              "      <td>1.000000</td>\n",
              "      <td>0.953331</td>\n",
              "      <td>0.057182</td>\n",
              "      <td>0.057218</td>\n",
              "      <td>0.057243</td>\n",
              "      <td>0.057170</td>\n",
              "    </tr>\n",
              "    <tr>\n",
              "      <th>scaled_score</th>\n",
              "      <td>0.138106</td>\n",
              "      <td>0.953331</td>\n",
              "      <td>1.000000</td>\n",
              "      <td>0.059861</td>\n",
              "      <td>0.059879</td>\n",
              "      <td>0.059913</td>\n",
              "      <td>0.059842</td>\n",
              "    </tr>\n",
              "    <tr>\n",
              "      <th>close</th>\n",
              "      <td>0.024170</td>\n",
              "      <td>0.057182</td>\n",
              "      <td>0.059861</td>\n",
              "      <td>1.000000</td>\n",
              "      <td>0.999854</td>\n",
              "      <td>0.999929</td>\n",
              "      <td>0.999936</td>\n",
              "    </tr>\n",
              "    <tr>\n",
              "      <th>open</th>\n",
              "      <td>0.024124</td>\n",
              "      <td>0.057218</td>\n",
              "      <td>0.059879</td>\n",
              "      <td>0.999854</td>\n",
              "      <td>1.000000</td>\n",
              "      <td>0.999933</td>\n",
              "      <td>0.999922</td>\n",
              "    </tr>\n",
              "    <tr>\n",
              "      <th>high</th>\n",
              "      <td>0.024160</td>\n",
              "      <td>0.057243</td>\n",
              "      <td>0.059913</td>\n",
              "      <td>0.999929</td>\n",
              "      <td>0.999933</td>\n",
              "      <td>1.000000</td>\n",
              "      <td>0.999900</td>\n",
              "    </tr>\n",
              "    <tr>\n",
              "      <th>low</th>\n",
              "      <td>0.024137</td>\n",
              "      <td>0.057170</td>\n",
              "      <td>0.059842</td>\n",
              "      <td>0.999936</td>\n",
              "      <td>0.999922</td>\n",
              "      <td>0.999900</td>\n",
              "      <td>1.000000</td>\n",
              "    </tr>\n",
              "  </tbody>\n",
              "</table>\n",
              "</div>\n",
              "      <button class=\"colab-df-convert\" onclick=\"convertToInteractive('df-4b2d72b4-fd64-4321-8220-fa91ca4e073f')\"\n",
              "              title=\"Convert this dataframe to an interactive table.\"\n",
              "              style=\"display:none;\">\n",
              "        \n",
              "  <svg xmlns=\"http://www.w3.org/2000/svg\" height=\"24px\"viewBox=\"0 0 24 24\"\n",
              "       width=\"24px\">\n",
              "    <path d=\"M0 0h24v24H0V0z\" fill=\"none\"/>\n",
              "    <path d=\"M18.56 5.44l.94 2.06.94-2.06 2.06-.94-2.06-.94-.94-2.06-.94 2.06-2.06.94zm-11 1L8.5 8.5l.94-2.06 2.06-.94-2.06-.94L8.5 2.5l-.94 2.06-2.06.94zm10 10l.94 2.06.94-2.06 2.06-.94-2.06-.94-.94-2.06-.94 2.06-2.06.94z\"/><path d=\"M17.41 7.96l-1.37-1.37c-.4-.4-.92-.59-1.43-.59-.52 0-1.04.2-1.43.59L10.3 9.45l-7.72 7.72c-.78.78-.78 2.05 0 2.83L4 21.41c.39.39.9.59 1.41.59.51 0 1.02-.2 1.41-.59l7.78-7.78 2.81-2.81c.8-.78.8-2.07 0-2.86zM5.41 20L4 18.59l7.72-7.72 1.47 1.35L5.41 20z\"/>\n",
              "  </svg>\n",
              "      </button>\n",
              "      \n",
              "  <style>\n",
              "    .colab-df-container {\n",
              "      display:flex;\n",
              "      flex-wrap:wrap;\n",
              "      gap: 12px;\n",
              "    }\n",
              "\n",
              "    .colab-df-convert {\n",
              "      background-color: #E8F0FE;\n",
              "      border: none;\n",
              "      border-radius: 50%;\n",
              "      cursor: pointer;\n",
              "      display: none;\n",
              "      fill: #1967D2;\n",
              "      height: 32px;\n",
              "      padding: 0 0 0 0;\n",
              "      width: 32px;\n",
              "    }\n",
              "\n",
              "    .colab-df-convert:hover {\n",
              "      background-color: #E2EBFA;\n",
              "      box-shadow: 0px 1px 2px rgba(60, 64, 67, 0.3), 0px 1px 3px 1px rgba(60, 64, 67, 0.15);\n",
              "      fill: #174EA6;\n",
              "    }\n",
              "\n",
              "    [theme=dark] .colab-df-convert {\n",
              "      background-color: #3B4455;\n",
              "      fill: #D2E3FC;\n",
              "    }\n",
              "\n",
              "    [theme=dark] .colab-df-convert:hover {\n",
              "      background-color: #434B5C;\n",
              "      box-shadow: 0px 1px 3px 1px rgba(0, 0, 0, 0.15);\n",
              "      filter: drop-shadow(0px 1px 2px rgba(0, 0, 0, 0.3));\n",
              "      fill: #FFFFFF;\n",
              "    }\n",
              "  </style>\n",
              "\n",
              "      <script>\n",
              "        const buttonEl =\n",
              "          document.querySelector('#df-4b2d72b4-fd64-4321-8220-fa91ca4e073f button.colab-df-convert');\n",
              "        buttonEl.style.display =\n",
              "          google.colab.kernel.accessAllowed ? 'block' : 'none';\n",
              "\n",
              "        async function convertToInteractive(key) {\n",
              "          const element = document.querySelector('#df-4b2d72b4-fd64-4321-8220-fa91ca4e073f');\n",
              "          const dataTable =\n",
              "            await google.colab.kernel.invokeFunction('convertToInteractive',\n",
              "                                                     [key], {});\n",
              "          if (!dataTable) return;\n",
              "\n",
              "          const docLinkHtml = 'Like what you see? Visit the ' +\n",
              "            '<a target=\"_blank\" href=https://colab.research.google.com/notebooks/data_table.ipynb>data table notebook</a>'\n",
              "            + ' to learn more about interactive tables.';\n",
              "          element.innerHTML = '';\n",
              "          dataTable['output_type'] = 'display_data';\n",
              "          await google.colab.output.renderOutput(dataTable, element);\n",
              "          const docLink = document.createElement('div');\n",
              "          docLink.innerHTML = docLinkHtml;\n",
              "          element.appendChild(docLink);\n",
              "        }\n",
              "      </script>\n",
              "    </div>\n",
              "  </div>\n",
              "  "
            ]
          },
          "metadata": {},
          "execution_count": 33
        }
      ]
    },
    {
      "cell_type": "code",
      "execution_count": null,
      "metadata": {
        "id": "8xFcq3nOKT1Q"
      },
      "outputs": [],
      "source": [
        "if(crypto == 'avax'):\n",
        "    model_data = np.delete(model_data, 20642, 0)"
      ]
    },
    {
      "cell_type": "code",
      "execution_count": null,
      "metadata": {
        "id": "MRriDGJ8KVQQ"
      },
      "outputs": [],
      "source": [
        "model_data = model_data.astype(float)"
      ]
    },
    {
      "cell_type": "code",
      "execution_count": null,
      "metadata": {
        "colab": {
          "base_uri": "https://localhost:8080/"
        },
        "id": "uZ_g5TONbm-g",
        "outputId": "efe4ecea-1350-43a7-c897-fa7960935a60"
      },
      "outputs": [
        {
          "output_type": "execute_result",
          "data": {
            "text/plain": [
              "(263077, 8)"
            ]
          },
          "metadata": {},
          "execution_count": 36
        }
      ],
      "source": [
        "model_data.shape"
      ]
    },
    {
      "cell_type": "code",
      "execution_count": null,
      "metadata": {
        "id": "CBiKB58COTvh"
      },
      "outputs": [],
      "source": [
        "num_feats = model_data.shape[1] - 1"
      ]
    },
    {
      "cell_type": "code",
      "execution_count": null,
      "metadata": {
        "colab": {
          "base_uri": "https://localhost:8080/"
        },
        "id": "LIy28ULBKWxx",
        "outputId": "cf2a7e4a-6fbd-4c0d-e02e-b6f7bbe64f18"
      },
      "outputs": [
        {
          "output_type": "stream",
          "name": "stdout",
          "text": [
            "(263077, 7)\n",
            "(263077, 1)\n"
          ]
        }
      ],
      "source": [
        "feature_data = model_data[:, :num_feats]\n",
        "print(feature_data.shape)\n",
        "y_price = model_data[:, num_feats:]\n",
        "print(y_price.shape)"
      ]
    },
    {
      "cell_type": "code",
      "execution_count": null,
      "metadata": {
        "id": "kdGU4cQfKvBU"
      },
      "outputs": [],
      "source": [
        "ss = StandardScaler()\n",
        "# smoother = KalmanSmoother(component='level_longseason', \n",
        "#                           component_noise={'level':0.1, 'longseason':0.1}, \n",
        "#                           n_longseasons=365)\n",
        "# X_ss = ss.fit_transform(feature_data)\n",
        "# y_mm = mm.fit_transform(y_price) \n",
        "\n",
        "X_ss = feature_data\n",
        "y_mm = y_price"
      ]
    },
    {
      "cell_type": "code",
      "execution_count": null,
      "metadata": {
        "id": "Cx-cqxAZKYV-"
      },
      "outputs": [],
      "source": [
        "test_size = 0.20\n",
        "total_samples = X_ss.shape[0]\n",
        "test_samples = int(test_size * total_samples)\n",
        "train_samples = total_samples - test_samples\n",
        "\n",
        "X_train = X_ss[:train_samples, :]\n",
        "X_test = X_ss[train_samples:,:]\n",
        "y_train = y_mm[:train_samples]\n",
        "y_test = y_mm[train_samples:]"
      ]
    },
    {
      "cell_type": "code",
      "execution_count": null,
      "metadata": {
        "id": "SNF-_XcKOeAG"
      },
      "outputs": [],
      "source": [
        "X_train = ss.fit_transform(X_train)\n",
        "X_test = ss.transform(X_test)\n",
        "\n",
        "# smoother.smooth(X_train)\n",
        "# smoother.smooth(X_test)\n",
        "\n",
        "y_train = mm.fit_transform(y_train)\n",
        "y_test = mm.transform(y_test)\n",
        "# X_train = normalize(X_train, norm='l2')\n",
        "# X_test = normalize(X_test, norm='l2')\n"
      ]
    },
    {
      "cell_type": "code",
      "execution_count": null,
      "metadata": {
        "colab": {
          "base_uri": "https://localhost:8080/"
        },
        "id": "Kdhcyvl5KgIl",
        "outputId": "5260acba-5736-4b54-c7fc-4e7c2f421078"
      },
      "outputs": [
        {
          "output_type": "stream",
          "name": "stdout",
          "text": [
            "Training Shape (210462, 7) (210462, 1)\n",
            "Testing Shape (52615, 7) (52615, 1)\n"
          ]
        }
      ],
      "source": [
        "print(\"Training Shape\", X_train.shape, y_train.shape)\n",
        "print(\"Testing Shape\", X_test.shape, y_test.shape) "
      ]
    },
    {
      "cell_type": "code",
      "execution_count": null,
      "metadata": {
        "id": "os4pjmXDLPQf"
      },
      "outputs": [],
      "source": [
        "import torch #pytorch\n",
        "import torch.nn as nn\n",
        "from torch.autograd import Variable "
      ]
    },
    {
      "cell_type": "code",
      "execution_count": null,
      "metadata": {
        "id": "m4fyEVDbLR5y"
      },
      "outputs": [],
      "source": [
        "X_train_tensors = Variable(torch.Tensor(X_train))\n",
        "X_test_tensors = Variable(torch.Tensor(X_test))\n",
        "\n",
        "y_train_tensors = Variable(torch.Tensor(y_train))\n",
        "y_test_tensors = Variable(torch.Tensor(y_test)) "
      ]
    },
    {
      "cell_type": "code",
      "execution_count": null,
      "metadata": {
        "id": "Lge1Kx2uLUHv"
      },
      "outputs": [],
      "source": [
        "X_train_tensors_final = torch.reshape(X_train_tensors,   (X_train_tensors.shape[0], 1, X_train_tensors.shape[1]))\n",
        "X_test_tensors_final = torch.reshape(X_test_tensors,  (X_test_tensors.shape[0], 1, X_test_tensors.shape[1])) "
      ]
    },
    {
      "cell_type": "code",
      "execution_count": null,
      "metadata": {
        "colab": {
          "base_uri": "https://localhost:8080/"
        },
        "id": "Jo2gULsTLXLj",
        "outputId": "2c233238-36c5-4500-effb-6ee56a878151"
      },
      "outputs": [
        {
          "output_type": "stream",
          "name": "stdout",
          "text": [
            "Training Shape torch.Size([210462, 1, 7]) torch.Size([210462, 1])\n",
            "Testing Shape torch.Size([52615, 1, 7]) torch.Size([52615, 1])\n"
          ]
        }
      ],
      "source": [
        "print(\"Training Shape\", X_train_tensors_final.shape, y_train_tensors.shape)\n",
        "print(\"Testing Shape\", X_test_tensors_final.shape, y_test_tensors.shape) "
      ]
    },
    {
      "cell_type": "code",
      "execution_count": null,
      "metadata": {
        "id": "T7cqboexLZKl"
      },
      "outputs": [],
      "source": [
        "class LSTM1(nn.Module):\n",
        "    def __init__(self, num_classes, input_size, hidden_size, num_layers, seq_length):\n",
        "        super(LSTM1, self).__init__()\n",
        "        self.num_classes = num_classes #number of classes\n",
        "        self.num_layers = num_layers #number of layers\n",
        "        self.input_size = input_size #input size\n",
        "        self.hidden_size = hidden_size #hidden state\n",
        "        self.seq_length = seq_length #sequence length\n",
        "\n",
        "        self.lstm = nn.LSTM(input_size=input_size, hidden_size=hidden_size,\n",
        "                          num_layers=num_layers, batch_first=True) #lstm\n",
        "        self.fc_1 =  nn.Linear(num_layers *hidden_size, 128) #fully connected 1\n",
        "        self.fc = nn.Linear(128, num_classes) #fully connected last layer\n",
        "\n",
        "        self.relu = nn.ReLU()\n",
        "        self.sigmoid = nn.Sigmoid()\n",
        "        self.dropout = nn.Dropout(0.05)\n",
        "    def forward(self,x):\n",
        "        h_0 = Variable(torch.zeros(self.num_layers, x.size(0), self.hidden_size)) #hidden state\n",
        "        c_0 = Variable(torch.zeros(self.num_layers, x.size(0), self.hidden_size)) #internal state\n",
        "        # Propagate input through LSTM\n",
        "        output, (hn, cn) = self.lstm(x, (h_0, c_0)) #lstm with input, hidden, and internal state\n",
        "        hn = hn.view(-1, self.hidden_size * self.num_layers) #reshaping the data for Dense layer next\n",
        "        # out = self.relu(hn)\n",
        "        out = self.dropout(hn)\n",
        "        out = self.fc_1(hn) #first Dense\n",
        "        out = self.relu(out) #relu\n",
        "        out = self.dropout(out)\n",
        "        out = self.fc(out) #Final Output\n",
        "        out = self.sigmoid(out)\n",
        "        return out"
      ]
    },
    {
      "cell_type": "code",
      "execution_count": null,
      "metadata": {
        "id": "dlFImaruLgWR"
      },
      "outputs": [],
      "source": [
        "num_epochs = 200 #1000 epochs\n",
        "learning_rate = 8e-4 #0.001 lr\n",
        "\n",
        "input_size = num_feats #number of features\n",
        "hidden_size = 16 #number of features in hidden state\n",
        "num_layers = 1 #number of stacked lstm layers\n",
        "\n",
        "num_classes = 1 #number of output classes "
      ]
    },
    {
      "cell_type": "code",
      "execution_count": null,
      "metadata": {
        "id": "Fx4ltoi8Li6r"
      },
      "outputs": [],
      "source": [
        "lstm1 = LSTM1(num_classes, input_size, hidden_size, num_layers, X_train_tensors_final.shape[1]) #our lstm class "
      ]
    },
    {
      "cell_type": "code",
      "execution_count": null,
      "metadata": {
        "id": "GWVZrwWJLkbA"
      },
      "outputs": [],
      "source": [
        "criterion = torch.nn.MSELoss()    # mean-squared error for regression\n",
        "optimizer = torch.optim.Adam(lstm1.parameters(), lr=learning_rate)\n",
        "# optimizer = torch.optim.Adam(lstm1.parameters(), lr=learning_rate, betas=(0.9, 0.999), weight_decay=0.01)\n",
        "# optimizer = torch.optim.SGD(lstm1.parameters(), lr=learning_rate, momentum=0.05, weight_decay=0.01)"
      ]
    },
    {
      "cell_type": "code",
      "execution_count": null,
      "metadata": {
        "colab": {
          "base_uri": "https://localhost:8080/"
        },
        "id": "2FJrBHh-Lmii",
        "outputId": "9b8f7efb-a3d4-4274-d970-329fcd396283"
      },
      "outputs": [
        {
          "output_type": "stream",
          "name": "stdout",
          "text": [
            "Epoch: 0, loss: 0.08646\n",
            "Validation Loss:  0.18942153453826904\n",
            "Epoch: 1, loss: 0.08568\n",
            "Validation Loss:  0.19040313363075256\n",
            "Epoch: 2, loss: 0.08490\n",
            "Validation Loss:  0.19138523936271667\n",
            "Epoch: 3, loss: 0.08414\n",
            "Validation Loss:  0.1923576295375824\n",
            "Epoch: 4, loss: 0.08338\n",
            "Validation Loss:  0.19332800805568695\n",
            "Epoch: 5, loss: 0.08264\n",
            "Validation Loss:  0.19425222277641296\n",
            "Epoch: 6, loss: 0.08190\n",
            "Validation Loss:  0.19518983364105225\n",
            "Epoch: 7, loss: 0.08116\n",
            "Validation Loss:  0.19610872864723206\n",
            "Epoch: 8, loss: 0.08043\n",
            "Validation Loss:  0.19695301353931427\n",
            "Epoch: 9, loss: 0.07970\n",
            "Validation Loss:  0.197836771607399\n",
            "Epoch: 10, loss: 0.07899\n",
            "Validation Loss:  0.19868560135364532\n",
            "Epoch: 11, loss: 0.07827\n",
            "Validation Loss:  0.19948600232601166\n",
            "Epoch: 12, loss: 0.07756\n",
            "Validation Loss:  0.2002599984407425\n",
            "Epoch: 13, loss: 0.07685\n",
            "Validation Loss:  0.2009965479373932\n",
            "Epoch: 14, loss: 0.07615\n",
            "Validation Loss:  0.2016681581735611\n",
            "Epoch: 15, loss: 0.07544\n",
            "Validation Loss:  0.20225955545902252\n",
            "Epoch: 16, loss: 0.07473\n",
            "Validation Loss:  0.20280438661575317\n",
            "Epoch: 17, loss: 0.07402\n",
            "Validation Loss:  0.2033177763223648\n",
            "Epoch: 18, loss: 0.07332\n",
            "Validation Loss:  0.20373031497001648\n",
            "Epoch: 19, loss: 0.07261\n",
            "Validation Loss:  0.2040664255619049\n",
            "Epoch: 20, loss: 0.07190\n",
            "Validation Loss:  0.2043313831090927\n",
            "Epoch: 21, loss: 0.07117\n",
            "Validation Loss:  0.20452004671096802\n",
            "Epoch: 22, loss: 0.07046\n",
            "Validation Loss:  0.20461367070674896\n",
            "Epoch: 23, loss: 0.06971\n",
            "Validation Loss:  0.20460830628871918\n",
            "Epoch: 24, loss: 0.06898\n",
            "Validation Loss:  0.20456525683403015\n",
            "Epoch: 25, loss: 0.06823\n",
            "Validation Loss:  0.20437423884868622\n",
            "Epoch: 26, loss: 0.06747\n",
            "Validation Loss:  0.20409515500068665\n",
            "Epoch: 27, loss: 0.06670\n",
            "Validation Loss:  0.20374009013175964\n",
            "Epoch: 28, loss: 0.06591\n",
            "Validation Loss:  0.20326852798461914\n",
            "Epoch: 29, loss: 0.06511\n",
            "Validation Loss:  0.202699214220047\n",
            "Epoch: 30, loss: 0.06431\n",
            "Validation Loss:  0.20201241970062256\n",
            "Epoch: 31, loss: 0.06350\n",
            "Validation Loss:  0.2012086659669876\n"
          ]
        }
      ],
      "source": [
        "train_loss = []\n",
        "val_loss = []\n",
        "\n",
        "for epoch in range(num_epochs):\n",
        "\n",
        "  optimizer.zero_grad() #caluclate the gradient, manually setting to 0\n",
        "  outputs = lstm1(X_train_tensors_final) #forward pass\n",
        "  # optimizer.zero_grad() #caluclate the gradient, manually setting to 0\n",
        " \n",
        "  # obtain the loss function\n",
        "  loss = criterion(outputs, y_train_tensors)\n",
        "  train_loss.append(loss.item()/len(y_train_tensors))\n",
        "  loss.backward() #calculates the loss of the loss function\n",
        " \n",
        "  optimizer.step() #improve from loss, i.e backprop\n",
        "  print(\"Epoch: %d, loss: %1.5f\" % (epoch, loss.item())) \n",
        "  output2 = lstm1(X_test_tensors_final) #forward pass\n",
        "  #   # optimizer.zero_grad() #caluclate the gradient, manually setting to 0\n",
        "  #   # obtain the loss function\n",
        "  loss = criterion(output2, y_test_tensors)\n",
        "  print(\"Validation Loss: \", loss.item()) \n",
        "  val_loss.append(loss.item()/len(y_test_tensors))"
      ]
    },
    {
      "cell_type": "code",
      "execution_count": null,
      "metadata": {
        "id": "QqDYPVLhFAKv"
      },
      "outputs": [],
      "source": [
        "plt.plot(train_loss, label='train_loss')\n",
        "plt.plot(val_loss, label='val_loss')\n",
        "# plt.yticks(np.arange(0, 0.001, 1e-6))\n",
        "plt.legend()\n",
        "plt.xlabel('epochs')\n",
        "plt.ylabel('loss')\n",
        "if(save == True):\n",
        "  plt.savefig(results_path + 'loss_curve.jpg', bbox_inches='tight', facecolor='w')\n",
        "plt.show()\n"
      ]
    },
    {
      "cell_type": "code",
      "execution_count": null,
      "metadata": {
        "id": "LFkecOI4UidA"
      },
      "outputs": [],
      "source": [
        "X_test1 = Variable(torch.Tensor(X_test)) #converting to Tensors\n",
        "y_test1 = Variable(torch.Tensor(y_test))\n",
        "#reshaping the dataset\n",
        "X_test1 = torch.reshape(X_test1, (X_test1.shape[0], 1, X_test1.shape[1]))"
      ]
    },
    {
      "cell_type": "code",
      "execution_count": null,
      "metadata": {
        "id": "bWEb8SEZU4yb"
      },
      "outputs": [],
      "source": [
        "test_predict = lstm1(X_test1)#forward pass\n",
        "data_predict = test_predict.data.numpy()#numpy conversion\n",
        "dataY_plot = y_test1.data.numpy()\n",
        "\n",
        "data_predict = mm.inverse_transform(data_predict) #reverse transformation\n",
        "dataY_plot = mm.inverse_transform(dataY_plot)\n",
        "\n",
        "# data_predict = [x - (0.02e-5) for x in data_predict]\n",
        "plt.figure(figsize=(20,6)) #plotting\n",
        "plt.axvline(x=200, c='r', linestyle='--') #size of the training set\n",
        "# ax.set_ylim([ymin, ymax])\n",
        "\n",
        "# plt.xlim([1, ])\n",
        "# plt.ylim([1.2, 1.8])\n",
        "# plt.yticks(np.arange(1.2, 1.8, 0.2))\n",
        "# plt.xticks(np.arange(-3, 3, 0.25))\n",
        "plt.plot(data_predict, label='Predicted Data [Test]') #predicted plot\n",
        "plt.plot(dataY_plot, label='Actual Data [Test]') #actual plot\n",
        "plt.title('Time-Series Prediction')\n",
        "# plt.ylim((2.2e-5, 2.8e-5))\n",
        "plt.legend()\n",
        "plt.xlabel(\"Series\")\n",
        "plt.ylabel(\"Price\")\n",
        "if(save == True):\n",
        "  plt.savefig(results_path + 'price_preds_test.jpg', bbox_inches='tight', facecolor='w')\n",
        "plt.show()\n",
        "\n",
        "# print(len(d))"
      ]
    },
    {
      "cell_type": "code",
      "source": [
        "#Full plot\n",
        "data_train = mm.inverse_transform(y_train)\n",
        "x = [i for i in range(len(data_train))]\n",
        "last_x = x[len(x) - 1]\n",
        "x2 = [i for i in range(last_x + 1, last_x + 1 + len(data_predict))]\n",
        "\n",
        "# x.extend(x2)\n",
        "plt.figure(figsize=(20,6))\n",
        "plt.plot(x, data_train, color='blue', label='Actual Price [Train]')\n",
        "plt.plot(x2, data_predict, color='red', label='Predicted Price')\n",
        "plt.plot(x2, dataY_plot, color='yellow', label='Actual Price [Test]')\n",
        "plt.legend()\n",
        "plt.ylabel('Price')\n",
        "plt.xlabel('Datapoint index')\n",
        "if(save == True):\n",
        "  plt.savefig(results_path + 'price_curve_whole.jpg', bbox_inches='tight', facecolor='w')\n",
        "plt.show()\n",
        "\n"
      ],
      "metadata": {
        "id": "5JDhPZAwzkLl"
      },
      "execution_count": null,
      "outputs": []
    },
    {
      "cell_type": "code",
      "execution_count": null,
      "metadata": {
        "id": "P8pZCKPJVGdR"
      },
      "outputs": [],
      "source": [
        "mses = []\n",
        "maes = []\n",
        "# rmses = \n",
        "for i in range(len(data_predict)):\n",
        "  mse = (data_predict[i] - dataY_plot[i])**2\n",
        "  mae = abs(data_predict[i] - dataY_plot[i])\n",
        "  # print(f\"pred = {data_predict[i]} | true = {dataY_plot[i]} | MSE = {mse}\")\n",
        "  mses.append(mse)\n",
        "  maes.append(mae)\n",
        "plt.plot([x for x in range(len(mses))], mses)\n",
        "plt.show()"
      ]
    },
    {
      "cell_type": "code",
      "source": [
        "test_rmse = math.sqrt(sum(mses) / len(mses))\n",
        "test_mae = (sum(maes) / len(maes))[0]\n",
        "print(f\"Test RMSE = {test_rmse}\")\n",
        "print(f\"Test MAE = {test_mae}\")"
      ],
      "metadata": {
        "id": "0LzQ4xNFSGqQ"
      },
      "execution_count": null,
      "outputs": []
    },
    {
      "cell_type": "code",
      "execution_count": null,
      "metadata": {
        "id": "0jgBFBPKNohB"
      },
      "outputs": [],
      "source": [
        "perc_errors = []\n",
        "mean = 0\n",
        "for i in range(len(data_predict)):\n",
        "  mae_perc = ((abs(data_predict[i] - dataY_plot[i])) / dataY_plot[i] ) * 100\n",
        "  perc_errors.append(mae_perc)\n",
        "  mean += mae_perc"
      ]
    },
    {
      "cell_type": "code",
      "execution_count": null,
      "metadata": {
        "id": "WxzhfmWsOW7u"
      },
      "outputs": [],
      "source": [
        "perc_errors = np.array(perc_errors)\n",
        "mean_perc_error = np.mean(perc_errors)\n",
        "max_perc_error = np.amax(perc_errors)\n",
        "print(f\"Mean error = {mean_perc_error}\")\n",
        "print(f\"max : {max_perc_error}\")\n",
        "# print(perc_errors.shape)"
      ]
    },
    {
      "cell_type": "code",
      "source": [
        "print('R2 Score : ', metrics.r2_score(data_predict, dataY_plot))"
      ],
      "metadata": {
        "id": "qAf6h02GHy2o"
      },
      "execution_count": null,
      "outputs": []
    },
    {
      "cell_type": "code",
      "source": [
        "if(save == True):\n",
        "  stats_f = open(results_path + 'stats.txt', 'w')\n",
        "  lines = [f'Stats for Crypto {crypto}\\n',\n",
        "          f'Model params : \\n Hidden Layer size = {hidden_size}\\n Learning_Rate = {learning_rate}\\n Num epochs = {num_epochs}\\n',\n",
        "          f'Results : \\n Test MAE = {test_mae}\\n Test RMSE = {test_rmse} \\n Mean percentage error = {mean_perc_error} \\n Max perc error = {max_perc_error}'\n",
        "          ]\n",
        "  stats_f.writelines(lines)\n",
        "  stats_f.close()"
      ],
      "metadata": {
        "id": "Zhb8zn4vP5IT"
      },
      "execution_count": null,
      "outputs": []
    }
  ],
  "metadata": {
    "colab": {
      "collapsed_sections": [],
      "name": "LSTM.ipynb",
      "provenance": []
    },
    "kernelspec": {
      "display_name": "Python 3",
      "name": "python3"
    },
    "language_info": {
      "name": "python"
    }
  },
  "nbformat": 4,
  "nbformat_minor": 0
}