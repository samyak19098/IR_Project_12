{
 "cells": [
  {
   "cell_type": "code",
   "execution_count": 201,
   "metadata": {},
   "outputs": [],
   "source": [
    "import requests\n",
    "\n",
    "# importing datetime module\n",
    "import datetime\n",
    "import time\n",
    "import json\n",
    "import pandas as pd\n",
    "import csv"
   ]
  },
  {
   "cell_type": "code",
   "execution_count": 202,
   "metadata": {},
   "outputs": [],
   "source": [
    "def convert_to_datetime(unix_time):\n",
    "    dt = datetime.datetime.utcfromtimestamp(unix_time).strftime('%Y-%m-%dT%H:%M:%SZ')\n",
    "    s = dt[:10] + ' ' + dt[11:len(dt) - 1] + '+00:00'\n",
    "    return s"
   ]
  },
  {
   "cell_type": "code",
   "execution_count": 203,
   "metadata": {},
   "outputs": [],
   "source": [
    "date_time = datetime.datetime(2022, 4, 9, 5, 30)\n",
    "unix_time = unix_time = int(time.mktime(date_time.timetuple()))"
   ]
  },
  {
   "cell_type": "code",
   "execution_count": 204,
   "metadata": {},
   "outputs": [],
   "source": [
    "currencies = ['SHIB', 'DOGE', 'XRP', 'AVAX', 'MATIC', 'SOL']    "
   ]
  },
  {
   "cell_type": "code",
   "execution_count": 205,
   "metadata": {},
   "outputs": [
    {
     "name": "stdout",
     "output_type": "stream",
     "text": [
      "Currency = SHIB\n",
      "Data from 2022-04-07 00:00:00+00:00 till 2022-04-08 00:00:00+00:00\n",
      "Num_record = 1441\n",
      "num rows = 1440\n",
      "First data point = ['2022-04-07 00:00:00+00:00', 2.436e-05, 2.431e-05, 2.435e-05, 11516492575.27, 280414.83, 2.436e-05]\n",
      "Last data point = ['2022-04-07 23:59:00+00:00', 2.482e-05, 2.476e-05, 2.476e-05, 1144272462.42, 28348.18, 2.48e-05]\n",
      "\n",
      "------------------------\n",
      "\n",
      "Currency = DOGE\n",
      "Data from 2022-04-07 00:00:00+00:00 till 2022-04-08 00:00:00+00:00\n",
      "Num_record = 1441\n",
      "num rows = 1440\n",
      "First data point = ['2022-04-07 00:00:00+00:00', 0.144, 0.1429, 0.1434, 2639869.03, 378771.41, 0.1439]\n",
      "Last data point = ['2022-04-07 23:59:00+00:00', 0.1462, 0.1459, 0.1459, 134301.5, 19615.96, 0.146]\n",
      "\n",
      "------------------------\n",
      "\n",
      "Currency = XRP\n",
      "Data from 2022-04-07 00:00:00+00:00 till 2022-04-08 00:00:00+00:00\n",
      "Num_record = 1441\n",
      "num rows = 1440\n",
      "First data point = ['2022-04-07 00:00:00+00:00', 0.7617, 0.7595, 0.7598, 86574.04, 65878.57, 0.7611]\n",
      "Last data point = ['2022-04-07 23:59:00+00:00', 0.7878, 0.7873, 0.7875, 34167.25, 26902.4, 0.7877]\n",
      "\n",
      "------------------------\n",
      "\n",
      "Currency = AVAX\n",
      "Data from 2022-04-07 00:00:00+00:00 till 2022-04-08 00:00:00+00:00\n",
      "Num_record = 1441\n",
      "num rows = 1440\n",
      "First data point = ['2022-04-07 00:00:00+00:00', 83.24, 82.79, 82.94, 2187.99, 181758.65, 83.24]\n",
      "Last data point = ['2022-04-07 23:59:00+00:00', 87.86, 87.59, 87.72, 3139.1, 275232.11, 87.66]\n",
      "\n",
      "------------------------\n",
      "\n",
      "Currency = MATIC\n",
      "Data from 2022-04-07 00:00:00+00:00 till 2022-04-08 00:00:00+00:00\n",
      "Num_record = 1441\n",
      "num rows = 1440\n",
      "First data point = ['2022-04-07 00:00:00+00:00', 1.46, 1.454, 1.458, 81141.31, 118184.8, 1.46]\n",
      "Last data point = ['2022-04-07 23:59:00+00:00', 1.513, 1.511, 1.512, 37382.65, 56515.38, 1.513]\n",
      "\n",
      "------------------------\n",
      "\n",
      "Currency = SOL\n",
      "Data from 2022-04-07 00:00:00+00:00 till 2022-04-08 00:00:00+00:00\n",
      "Num_record = 1441\n",
      "num rows = 1440\n",
      "First data point = ['2022-04-07 00:00:00+00:00', 113.37, 112.69, 112.99, 12994.96, 1469351.95, 113.26]\n",
      "Last data point = ['2022-04-07 23:59:00+00:00', 118.69, 118.36, 118.41, 1461.26, 173275.84, 118.6]\n",
      "\n",
      "------------------------\n",
      "\n"
     ]
    }
   ],
   "source": [
    "cols = ['time', 'high', 'low', 'open', 'volume_from', 'volume_to', 'close']\n",
    "for curr in currencies:\n",
    "    print(f\"Currency = {curr}\")\n",
    "    currency_output = []\n",
    "    # f = json.load(open(f'{curr}_data.json'))\n",
    "    query_str = f\"https://min-api.cryptocompare.com/data/v2/histominute?fsym={curr}&tsym=USD&limit=1440&toTs={unix_time}\"\n",
    "    response = requests.get(query_str)\n",
    "    f = response.json()\n",
    "    data = f['Data']\n",
    "    time_from = convert_to_datetime(data['TimeFrom'])\n",
    "    time_to = convert_to_datetime(data['TimeTo'])\n",
    "    print(f\"Data from {time_from} till {time_to}\")\n",
    "    price_data = data['Data']\n",
    "    print(f\"Num_record = {len(price_data)}\")\n",
    "    for rec in price_data:\n",
    "        entry = [convert_to_datetime(rec['time']), rec['high'], rec['low'], rec['open'], rec['volumefrom'], rec['volumeto'], rec['close']]\n",
    "        currency_output.append(entry)\n",
    "    currency_output = currency_output[:len(currency_output) - 1]\n",
    "    print(f\"num rows = {len(currency_output)}\")\n",
    "    print(f\"First data point = {currency_output[0]}\")\n",
    "    print(f\"Last data point = {currency_output[len(currency_output) - 1]}\")\n",
    "    # print(currency_output[len(currency_output) - 1])\n",
    "    with open(f\"./CryptoData/{curr}_data.csv\",'a', newline='') as file:\n",
    "        writer = csv.writer(file)\n",
    "        writer.writerows(currency_output)\n",
    "    \n",
    "    print(\"\\n------------------------\\n\")\n",
    "\n",
    "\n",
    "\n"
   ]
  }
 ],
 "metadata": {
  "interpreter": {
   "hash": "2370e07001db70a9c24f7e21173c51fbc4321340913a02830aed4885459fa0a0"
  },
  "kernelspec": {
   "display_name": "Python 3.8.10 64-bit",
   "language": "python",
   "name": "python3"
  },
  "language_info": {
   "codemirror_mode": {
    "name": "ipython",
    "version": 3
   },
   "file_extension": ".py",
   "mimetype": "text/x-python",
   "name": "python",
   "nbconvert_exporter": "python",
   "pygments_lexer": "ipython3",
   "version": "3.8.10"
  },
  "orig_nbformat": 4
 },
 "nbformat": 4,
 "nbformat_minor": 2
}
