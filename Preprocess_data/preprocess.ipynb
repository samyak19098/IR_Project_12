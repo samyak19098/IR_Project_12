{
 "cells": [
  {
   "cell_type": "code",
   "execution_count": 130,
   "metadata": {},
   "outputs": [
    {
     "name": "stderr",
     "output_type": "stream",
     "text": [
      "[nltk_data] Downloading package reuters to C:\\Users\\Samyak\n",
      "[nltk_data]     Jain\\AppData\\Roaming\\nltk_data...\n",
      "[nltk_data]   Package reuters is already up-to-date!\n"
     ]
    }
   ],
   "source": [
    "import numpy as np\n",
    "import pandas as pd\n",
    "import json\n",
    "import ast\n",
    "from tqdm import tqdm\n",
    "import pandas as pd\n",
    "import numpy as np\n",
    "import nltk\n",
    "nltk.download('reuters')\n",
    "from nltk.tokenize import RegexpTokenizer\n",
    "from nltk.corpus import stopwords\n",
    "from nltk.corpus import reuters\n",
    "from emot.emo_unicode import UNICODE_EMOJI # For emojis\n",
    "from emot.emo_unicode import EMOTICONS_EMO # For EMOTICONS\n",
    "import matplotlib.pyplot as plt\n",
    "import seaborn as sns\n",
    "import emoji\n",
    "import sklearn\n",
    "import re\n"
   ]
  },
  {
   "cell_type": "code",
   "execution_count": 131,
   "metadata": {},
   "outputs": [],
   "source": [
    "crypto = \"ShibaInu\""
   ]
  },
  {
   "cell_type": "code",
   "execution_count": 132,
   "metadata": {},
   "outputs": [
    {
     "data": {
      "text/html": [
       "<div>\n",
       "<style scoped>\n",
       "    .dataframe tbody tr th:only-of-type {\n",
       "        vertical-align: middle;\n",
       "    }\n",
       "\n",
       "    .dataframe tbody tr th {\n",
       "        vertical-align: top;\n",
       "    }\n",
       "\n",
       "    .dataframe thead th {\n",
       "        text-align: right;\n",
       "    }\n",
       "</style>\n",
       "<table border=\"1\" class=\"dataframe\">\n",
       "  <thead>\n",
       "    <tr style=\"text-align: right;\">\n",
       "      <th></th>\n",
       "      <th>Unnamed: 0.1</th>\n",
       "      <th>Unnamed: 0</th>\n",
       "      <th>id</th>\n",
       "      <th>text</th>\n",
       "      <th>favourite_count</th>\n",
       "      <th>retweet_count</th>\n",
       "      <th>created_at</th>\n",
       "      <th>User</th>\n",
       "      <th>place</th>\n",
       "      <th>time</th>\n",
       "      <th>high</th>\n",
       "      <th>low</th>\n",
       "      <th>open</th>\n",
       "      <th>volume_from</th>\n",
       "      <th>volume_to</th>\n",
       "      <th>close</th>\n",
       "    </tr>\n",
       "  </thead>\n",
       "  <tbody>\n",
       "    <tr>\n",
       "      <th>0</th>\n",
       "      <td>0</td>\n",
       "      <td>1733</td>\n",
       "      <td>1.509960e+18</td>\n",
       "      <td>What happened today - One of our clients sent ...</td>\n",
       "      <td>14</td>\n",
       "      <td>7</td>\n",
       "      <td>2022-04-01 18:26:59</td>\n",
       "      <td>{'id': 103292437, 'id_str': '103292437', 'name...</td>\n",
       "      <td>NaN</td>\n",
       "      <td>2022-04-01 18:27:00</td>\n",
       "      <td>0.000026</td>\n",
       "      <td>0.000026</td>\n",
       "      <td>0.000026</td>\n",
       "      <td>3.176552e+09</td>\n",
       "      <td>83179.86</td>\n",
       "      <td>0.000026</td>\n",
       "    </tr>\n",
       "    <tr>\n",
       "      <th>1</th>\n",
       "      <td>1</td>\n",
       "      <td>1732</td>\n",
       "      <td>1.509960e+18</td>\n",
       "      <td>@illuviumio I am super bullish on Bullypit. Th...</td>\n",
       "      <td>0</td>\n",
       "      <td>0</td>\n",
       "      <td>2022-04-01 18:27:15</td>\n",
       "      <td>{'id': 1163971113375993856, 'id_str': '1163971...</td>\n",
       "      <td>NaN</td>\n",
       "      <td>2022-04-01 18:28:00</td>\n",
       "      <td>0.000026</td>\n",
       "      <td>0.000026</td>\n",
       "      <td>0.000026</td>\n",
       "      <td>4.439739e+09</td>\n",
       "      <td>116320.86</td>\n",
       "      <td>0.000026</td>\n",
       "    </tr>\n",
       "    <tr>\n",
       "      <th>2</th>\n",
       "      <td>2</td>\n",
       "      <td>1731</td>\n",
       "      <td>1.509960e+18</td>\n",
       "      <td>Found out yesterday that $cult dao is from the...</td>\n",
       "      <td>1</td>\n",
       "      <td>0</td>\n",
       "      <td>2022-04-01 18:27:37</td>\n",
       "      <td>{'id': 1507873925690269696, 'id_str': '1507873...</td>\n",
       "      <td>NaN</td>\n",
       "      <td>2022-04-01 18:28:00</td>\n",
       "      <td>0.000026</td>\n",
       "      <td>0.000026</td>\n",
       "      <td>0.000026</td>\n",
       "      <td>4.439739e+09</td>\n",
       "      <td>116320.86</td>\n",
       "      <td>0.000026</td>\n",
       "    </tr>\n",
       "  </tbody>\n",
       "</table>\n",
       "</div>"
      ],
      "text/plain": [
       "   Unnamed: 0.1  Unnamed: 0            id  \\\n",
       "0             0        1733  1.509960e+18   \n",
       "1             1        1732  1.509960e+18   \n",
       "2             2        1731  1.509960e+18   \n",
       "\n",
       "                                                text  favourite_count  \\\n",
       "0  What happened today - One of our clients sent ...               14   \n",
       "1  @illuviumio I am super bullish on Bullypit. Th...                0   \n",
       "2  Found out yesterday that $cult dao is from the...                1   \n",
       "\n",
       "   retweet_count          created_at  \\\n",
       "0              7 2022-04-01 18:26:59   \n",
       "1              0 2022-04-01 18:27:15   \n",
       "2              0 2022-04-01 18:27:37   \n",
       "\n",
       "                                                User place  \\\n",
       "0  {'id': 103292437, 'id_str': '103292437', 'name...   NaN   \n",
       "1  {'id': 1163971113375993856, 'id_str': '1163971...   NaN   \n",
       "2  {'id': 1507873925690269696, 'id_str': '1507873...   NaN   \n",
       "\n",
       "                 time      high       low      open   volume_from  volume_to  \\\n",
       "0 2022-04-01 18:27:00  0.000026  0.000026  0.000026  3.176552e+09   83179.86   \n",
       "1 2022-04-01 18:28:00  0.000026  0.000026  0.000026  4.439739e+09  116320.86   \n",
       "2 2022-04-01 18:28:00  0.000026  0.000026  0.000026  4.439739e+09  116320.86   \n",
       "\n",
       "      close  \n",
       "0  0.000026  \n",
       "1  0.000026  \n",
       "2  0.000026  "
      ]
     },
     "execution_count": 132,
     "metadata": {},
     "output_type": "execute_result"
    }
   ],
   "source": [
    "dataframe = pd.read_excel(f\"{crypto}_tweet_crypto.xlsx\")\n",
    "dataframe.head(3)"
   ]
  },
  {
   "cell_type": "code",
   "execution_count": 133,
   "metadata": {},
   "outputs": [
    {
     "data": {
      "text/plain": [
       "Index(['Unnamed: 0.1', 'Unnamed: 0', 'id', 'text', 'favourite_count',\n",
       "       'retweet_count', 'created_at', 'User', 'place', 'time', 'high', 'low',\n",
       "       'open', 'volume_from', 'volume_to', 'close'],\n",
       "      dtype='object')"
      ]
     },
     "execution_count": 133,
     "metadata": {},
     "output_type": "execute_result"
    }
   ],
   "source": [
    "dataframe.columns"
   ]
  },
  {
   "cell_type": "code",
   "execution_count": 134,
   "metadata": {},
   "outputs": [
    {
     "name": "stderr",
     "output_type": "stream",
     "text": [
      "100%|██████████| 42857/42857 [01:23<00:00, 511.20it/s]\n"
     ]
    }
   ],
   "source": [
    "arr = np.squeeze(np.array(dataframe[\"User\"].apply(pd.Series)))\n",
    "dataArray = []\n",
    "for i in tqdm(range(len(arr))):\n",
    "    dict = ast.literal_eval(arr[i])\n",
    "    json_string = json.dumps(dict) \n",
    "    newData = json.loads(json_string)\n",
    "    f1 = pd.json_normalize(newData)\n",
    "    dataArray.append(f1)"
   ]
  },
  {
   "cell_type": "code",
   "execution_count": 135,
   "metadata": {},
   "outputs": [
    {
     "name": "stderr",
     "output_type": "stream",
     "text": [
      "100%|██████████| 42857/42857 [00:09<00:00, 4469.27it/s]\n"
     ]
    }
   ],
   "source": [
    "user_id_str_list = []\n",
    "user_name_list = []\n",
    "user_f_count_list = []\n",
    "user_verif = []\n",
    "for i in tqdm(range(len(arr))):\n",
    "    id_str = dataArray[i]['id_str']\n",
    "    name = dataArray[i]['name']\n",
    "    f_cnt = dataArray[i]['followers_count']\n",
    "    verif = dataArray[i]['verified']\n",
    "    user_id_str_list.append(id_str)\n",
    "    user_name_list.append(name)\n",
    "    user_f_count_list.append(f_cnt)\n",
    "    user_verif.append(verif)\n",
    "    "
   ]
  },
  {
   "cell_type": "code",
   "execution_count": 136,
   "metadata": {},
   "outputs": [],
   "source": [
    "dataframe['user_id_str'] = np.array(user_id_str_list)\n",
    "dataframe['user_name'] = np.array(user_name_list)\n",
    "dataframe['user_followers_count'] = np.array(user_f_count_list)\n",
    "dataframe['user_verified'] = np.array(user_verif)"
   ]
  },
  {
   "cell_type": "code",
   "execution_count": 137,
   "metadata": {},
   "outputs": [
    {
     "data": {
      "text/plain": [
       "Index(['Unnamed: 0.1', 'Unnamed: 0', 'id', 'text', 'favourite_count',\n",
       "       'retweet_count', 'created_at', 'User', 'place', 'time', 'high', 'low',\n",
       "       'open', 'volume_from', 'volume_to', 'close', 'user_id_str', 'user_name',\n",
       "       'user_followers_count', 'user_verified'],\n",
       "      dtype='object')"
      ]
     },
     "execution_count": 137,
     "metadata": {},
     "output_type": "execute_result"
    }
   ],
   "source": [
    "dataframe.columns"
   ]
  },
  {
   "cell_type": "code",
   "execution_count": 138,
   "metadata": {},
   "outputs": [],
   "source": [
    "# newUserData = pd.concat(dataArray)\n",
    "# newUserData = pd.DataFrame(newUserData)\n",
    "# newUserData.head(3)"
   ]
  },
  {
   "cell_type": "code",
   "execution_count": 139,
   "metadata": {},
   "outputs": [],
   "source": [
    "# newUserData.shape"
   ]
  },
  {
   "cell_type": "code",
   "execution_count": 140,
   "metadata": {},
   "outputs": [],
   "source": [
    "# newUserData.columns"
   ]
  },
  {
   "cell_type": "code",
   "execution_count": 141,
   "metadata": {},
   "outputs": [],
   "source": [
    "# for col in newUserData.columns:\n",
    "#     newName = \"user_\"+col\n",
    "#     newUserData = newUserData.rename(columns = {col: newName})\n"
   ]
  },
  {
   "cell_type": "code",
   "execution_count": 142,
   "metadata": {},
   "outputs": [],
   "source": [
    "# newUserData.columns"
   ]
  },
  {
   "cell_type": "code",
   "execution_count": 143,
   "metadata": {},
   "outputs": [],
   "source": [
    "# for col in newUserData.columns:\n",
    "#     dataframe[col] = np.array(newUserData[col])"
   ]
  },
  {
   "cell_type": "code",
   "execution_count": 144,
   "metadata": {},
   "outputs": [
    {
     "data": {
      "text/plain": [
       "(42857, 20)"
      ]
     },
     "execution_count": 144,
     "metadata": {},
     "output_type": "execute_result"
    }
   ],
   "source": [
    "dataframe.shape"
   ]
  },
  {
   "cell_type": "code",
   "execution_count": 145,
   "metadata": {},
   "outputs": [],
   "source": [
    "reuters = set(nltk.corpus.reuters.words())\n",
    "my_stopwords = nltk.corpus.stopwords.words('english')\n",
    "word_rooter = nltk.stem.snowball.PorterStemmer(ignore_stopwords=False).stem\n",
    "my_punctuation = '!\"$%&\\'()*+,-./:;<=>?[\\\\]^_`{|}~•@'"
   ]
  },
  {
   "cell_type": "code",
   "execution_count": 146,
   "metadata": {},
   "outputs": [],
   "source": [
    "def find_retweeted(tweet):\n",
    "    '''This function will extract the twitter handles of retweed people'''\n",
    "    return re.findall('(?<=RT\\s)(@[A-Za-z]+[A-Za-z0-9-_]+)', tweet)\n",
    "    \n",
    "def find_mentioned(tweet):\n",
    "    '''This function will extract the twitter handles of people mentioned in the tweet'''\n",
    "    return re.findall('(?<!RT\\s)(@[A-Za-z]+[A-Za-z0-9-_]+)', tweet)  \n",
    "\n",
    "def find_hashtags(tweet):\n",
    "    '''This function will extract hashtags'''\n",
    "    return re.findall('(#[A-Za-z]+[A-Za-z0-9-_]+)', tweet) \n",
    "\n",
    "\n",
    "def remove_links(tweet):\n",
    "    '''Takes a string and removes web links from it'''\n",
    "    tweet = re.sub(r'http\\S+', '', tweet) # remove http links\n",
    "    tweet = re.sub(r'bit.ly/\\S+', '', tweet) # rempve bitly links\n",
    "    tweet = tweet.strip('[link]') # remove [links]\n",
    "    return tweet\n",
    "\n",
    "def remove_users(tweet):\n",
    "    '''Takes a string and removes retweet and @user information'''\n",
    "    tweet = re.sub('(RT\\s@[A-Za-z]+[A-Za-z0-9-_]+)', '', tweet) # remove retweet\n",
    "    tweet = re.sub('(@[A-Za-z]+[A-Za-z0-9-_]+)', '', tweet) # remove tweeted at\n",
    "    return tweet\n",
    "\n",
    "def clean_tweet(tweet, bigrams=False):\n",
    "    tweet = remove_users(tweet)\n",
    "    tweet = remove_links(tweet)\n",
    "    tweet = tweet.lower() # lower case\n",
    "    tweet = re.sub('['+my_punctuation + ']+', ' ', tweet) # strip punctuation\n",
    "    tweet = re.sub('\\s+', ' ', tweet) #remove double spacing\n",
    "    tweet = re.sub('([0-9]+)', '', tweet) # remove numbers\n",
    "    tweet_token_list = []\n",
    "    tweet_token_list = [word for word in tweet.split(' ')\n",
    "                            if word not in my_stopwords] # remove stopwords\n",
    "\n",
    "    tweet_token_list = [word_rooter(word) if '#' not in word else word\n",
    "                        for word in tweet_token_list] # apply word rooter\n",
    "\n",
    "    if bigrams:\n",
    "        tweet_token_list = tweet_token_list+[tweet_token_list[i]+'_'+tweet_token_list[i+1]\n",
    "                                            for i in range(len(tweet_token_list)-1)]\n",
    "    \n",
    "    tweet = ' '.join(tweet_token_list)\n",
    "    \n",
    "    return tweet\n",
    "    \n",
    "def deEmojify(text):\n",
    "    regrex_pattern = re.compile(pattern = \"[\"\n",
    "        u\"\\U0001F600-\\U0001F64F\"  # emoticons\n",
    "        u\"\\U0001F300-\\U0001F5FF\"  # symbols & pictographs\n",
    "        u\"\\U0001F680-\\U0001F6FF\"  # transport & map symbols\n",
    "        u\"\\U0001F1E0-\\U0001F1FF\"  # flags (iOS)\n",
    "                           \"]+\", flags = re.UNICODE)\n",
    "    return regrex_pattern.sub(r'',text)\n",
    "    \n",
    "def convert_emoticons(text):\n",
    "    for emot in EMOTICONS_EMO:\n",
    "        text = text.replace(emot, EMOTICONS_EMO[emot].replace(\" \",\"_\"))\n",
    "    return text\n",
    "\n",
    "def convert_emojis(tweet):\n",
    "    tweet = emoji.demojize(tweet)\n",
    "    tweet = tweet.replace(\":\",\" \")\n",
    "    tweet = ' '.join(tweet.split())\n",
    "    return tweet"
   ]
  },
  {
   "cell_type": "code",
   "execution_count": 147,
   "metadata": {},
   "outputs": [],
   "source": [
    "dataframe['text'] = dataframe['text'].apply(str)"
   ]
  },
  {
   "cell_type": "code",
   "execution_count": 148,
   "metadata": {},
   "outputs": [],
   "source": [
    "dataframe['hashtags'] = dataframe.text.apply(find_hashtags)\n",
    "dataframe['mentioned'] = dataframe.text.apply(find_mentioned)\n",
    "dataframe['text'] = dataframe.text.apply(convert_emoticons)"
   ]
  },
  {
   "cell_type": "code",
   "execution_count": 149,
   "metadata": {},
   "outputs": [],
   "source": [
    "dataframe['clean_tweet'] = dataframe.text.apply(clean_tweet)\n",
    "dataframe['changed_text'] = dataframe.clean_tweet.apply(convert_emojis)"
   ]
  },
  {
   "cell_type": "code",
   "execution_count": 150,
   "metadata": {},
   "outputs": [
    {
     "data": {
      "text/plain": [
       "(42857, 24)"
      ]
     },
     "execution_count": 150,
     "metadata": {},
     "output_type": "execute_result"
    }
   ],
   "source": [
    "dataframe.shape"
   ]
  },
  {
   "cell_type": "code",
   "execution_count": 151,
   "metadata": {},
   "outputs": [],
   "source": [
    "dataframe.to_csv(f'preprocessed_data/{crypto}_combined_preproc.csv', index=False)"
   ]
  },
  {
   "cell_type": "code",
   "execution_count": 152,
   "metadata": {},
   "outputs": [
    {
     "name": "stdout",
     "output_type": "stream",
     "text": [
      "(42857, 24)\n"
     ]
    }
   ],
   "source": [
    "kf = pd.read_csv(f'preprocessed_data/{crypto}_combined_preproc.csv')\n",
    "print(kf.shape)\n"
   ]
  }
 ],
 "metadata": {
  "interpreter": {
   "hash": "2370e07001db70a9c24f7e21173c51fbc4321340913a02830aed4885459fa0a0"
  },
  "kernelspec": {
   "display_name": "Python 3.8.10 64-bit",
   "language": "python",
   "name": "python3"
  },
  "language_info": {
   "codemirror_mode": {
    "name": "ipython",
    "version": 3
   },
   "file_extension": ".py",
   "mimetype": "text/x-python",
   "name": "python",
   "nbconvert_exporter": "python",
   "pygments_lexer": "ipython3",
   "version": "3.8.10"
  },
  "orig_nbformat": 4
 },
 "nbformat": 4,
 "nbformat_minor": 2
}
